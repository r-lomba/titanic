{
 "cells": [
  {
   "cell_type": "markdown",
   "metadata": {},
   "source": [
    "# Sopravviverai alla sciagura del Titanic? Un Classificatore Binario basato su Neural Network"
   ]
  },
  {
   "cell_type": "markdown",
   "metadata": {},
   "source": [
    "## Operazioni preliminari"
   ]
  },
  {
   "cell_type": "markdown",
   "metadata": {},
   "source": [
    "Questo Jupyter Notebook ci permetterà di completare in ogni sua parte tutte le fasi richieste per partecipare alla Kaggle Competition \"Titanic - Machine Learning from Disaster\", descritta ampiamente nell'articolo. Il progetto si suddivide logicamente nelle seguenti Sezioni, che varranno affrontate una ad una:\n",
    "\n",
    "- Operazioni preliminari, caricamento Librerie, Setup dell'Ambiente\n",
    "- Data Preparation del Dataset di TRAINING fornito da Kaggle a corredo\n",
    "- Costruzione del Modello di Rete Neurale che verrà usato per effettuare le Predizioni sul Dataset di TEST fornito da Kaggle, e privo della cosiddetta \"Class Label\" (ovvero dell'informazione che ci dice se il Passeggero in esame è sopravvissuto al disastro oppure no). Tali Predizioni che sono l'oggetto vero e proprio della Competition\n",
    "- Training del Midello utilizzando il Dataset preparato nelle fasi precedenti\n",
    "- Inferenza dei risultati oggetto della Competition, usando il Modello addestrato nelle fasi precedenti\n",
    "- Generazione di un file CSV in formato adatto ad essere uploadato e valutato sul sito della Competition\n",
    "- Valutazione della propria prestazione in classifica generale!"
   ]
  },
  {
   "cell_type": "markdown",
   "metadata": {},
   "source": [
    "### Importiamo le librerie necessarie e inizializzando la visualizzazione dei grafici"
   ]
  },
  {
   "cell_type": "code",
   "execution_count": 1,
   "metadata": {},
   "outputs": [
    {
     "name": "stderr",
     "output_type": "stream",
     "text": [
      "Using TensorFlow backend.\n"
     ]
    }
   ],
   "source": [
    "# Importiamo le librerie di base, calcolo e per la visualizzazione\n",
    "import time\n",
    "import numpy as np\n",
    "import pandas as pd\n",
    "import seaborn as sns\n",
    "import matplotlib.pyplot as plt\n",
    "\n",
    "# Importiamo dal framework per il Deep Learning \"Keras\", in questo caso\n",
    "# basato su backend Tensorflow, un modello base di Deep Neural Network\n",
    "# e della tipologia di Layer di neuroni che intendiamo usare per costruirla.\n",
    "# In questo caso, useremo dei Layer di tipo \"Dense\" e dei neuroni\n",
    "# di tipo \"ReLU\" per i Deep Layers e \"Sigmoid\" per il neurone di output\n",
    "# che ci fornirà la previsione finale relativamente ai passeggeri\n",
    "# di cui ci verrà chiesto di stimare la sopravvivenza\n",
    "from keras.models import Sequential\n",
    "from keras.layers import Dense\n",
    "\n",
    "# Importiamo dalla Libreria per il Machine Learning \"Scikit Learn\"\n",
    "# la funzione \"Standard Scaler\" che ci permette di normalizzare Colonne\n",
    "# Scalari in un Dataframe, riducendone i valori contenuti ad un range\n",
    "# che va da -1 a +1 in maniera ragionata. Maggiori dettagli sull'utilizzo\n",
    "# di questa liberia saranno riportati in seguito, al momento di applicarla.\n",
    "# Importiamo inoltre il modulo \"train_test_split\" che ci permetterà di\n",
    "# controllare la progressione e la bontà dell'apprendimento in corso. Anche\n",
    "# in questo caso, più dettagli saranno dati al momento opportuno\n",
    "from sklearn.preprocessing import StandardScaler\n",
    "from sklearn.model_selection import train_test_split\n",
    "\n",
    "# Abilitiamo la visualizzazione direttamente sul nostro Notebook, per\n",
    "# poter plottare a schermo i Grafici di interesse\n",
    "%matplotlib inline\n",
    "\n",
    "# Impostiamo un Seed per la randomizzazione, in modo da poter ottenere\n",
    "# risultati coerenti ogni volta che lanciamo il nostro Notebook.\n",
    "# Se non si imposta un Seed, ogni volta che eseguiremo il nostro esercizio\n",
    "# otterremo risultati diversi, dovuti alla natura probabilistica degli\n",
    "# algoritmi utilizzati\n",
    "np.random.seed(1)"
   ]
  },
  {
   "cell_type": "markdown",
   "metadata": {},
   "source": [
    " "
   ]
  },
  {
   "cell_type": "markdown",
   "metadata": {},
   "source": [
    "<hr>"
   ]
  },
  {
   "cell_type": "markdown",
   "metadata": {},
   "source": [
    " "
   ]
  },
  {
   "cell_type": "markdown",
   "metadata": {},
   "source": [
    "## Fase di Data Preparation"
   ]
  },
  {
   "cell_type": "markdown",
   "metadata": {},
   "source": [
    "In qualsiasi progetto di Machine Learning oppure Deep Learning, sicuramente la fase di Data Preparation è di cruciale importanza.\n",
    "\n",
    "Spesso è la fase di Progetto che richiede più tempo per essere portata a termine, perchè comporta una vera comprensione delle informazioni contenute nel Dataset da parte dell'Analista.\n",
    "\n",
    "Inoltre, prevede un'accurata trasformazione dei Campi disponibili in formati e con modalità che favoriscano l'apprendimento della Rete Neurale o comunque del Modello del quale si sta facendo il training.\n",
    "\n",
    "Il Modello deve poter rilevare nel modo più proficuo possibile le informazioni (ovvero le cosiddette \"Features\") che noi gli passiamo, per poterne catturare i pattern più significativi ed essere successivamente in grado di effettuare previsioni su dati mai visti prima."
   ]
  },
  {
   "cell_type": "markdown",
   "metadata": {},
   "source": [
    "### Leggiamo in un Dataframe (struttura logica implementata dalla libreria Pandas che ci consente di manipolare interi Dataset molto facilmente) il file \"train.csv\" scaricato da Kaggle"
   ]
  },
  {
   "cell_type": "markdown",
   "metadata": {},
   "source": [
    "Il sito Kaggle ci mette inizialmente a disposizione un file CSV perfetto per essere utilizzato per il Training della nostra Rete Neurale. Esso contiene sia le Features descrittive di un gran numero di Passeggeri, che un Flag che ci indica se tale Passeggero è sopravvissuto al disastro o meno.\n",
    "\n",
    "Carichiamo quindi il file nel Dataframe di riferimento:"
   ]
  },
  {
   "cell_type": "code",
   "execution_count": 2,
   "metadata": {},
   "outputs": [],
   "source": [
    "# Il file di riferimento \"train.csv\" scaricato dal sito della\n",
    "# Kaggle Competition dovrà essere salvato nella stessa directory di questo\n",
    "# Jupyter Notebook, se stai lavorando in locale. Se invece stai lavorando\n",
    "# sull'Istanza Google Colab come suggerito nell'articolo, non devi fare nulla\n",
    "# in quanto il file stesso è già stato scaricato ed è già presente nella\n",
    "# posizione corretta\n",
    "train = pd.read_csv('train.csv')"
   ]
  },
  {
   "cell_type": "markdown",
   "metadata": {},
   "source": [
    "### Visualizziamo alcune righe del nostro Dataframe di Train, per renderci conto delle Colonne che lo compongono"
   ]
  },
  {
   "cell_type": "markdown",
   "metadata": {},
   "source": [
    "E' sempre importante rendersi conto visivamente dell'aspetto e del \"carattere\" dei Dati che stiamo trattando. Per questo è senz'altro comodo fare una prima estrazione, a titolo di esempio, di alcuni dei Record presenti nel nostro Dataframe:"
   ]
  },
  {
   "cell_type": "code",
   "execution_count": 3,
   "metadata": {},
   "outputs": [
    {
     "data": {
      "text/html": [
       "<div>\n",
       "<style scoped>\n",
       "    .dataframe tbody tr th:only-of-type {\n",
       "        vertical-align: middle;\n",
       "    }\n",
       "\n",
       "    .dataframe tbody tr th {\n",
       "        vertical-align: top;\n",
       "    }\n",
       "\n",
       "    .dataframe thead th {\n",
       "        text-align: right;\n",
       "    }\n",
       "</style>\n",
       "<table border=\"1\" class=\"dataframe\">\n",
       "  <thead>\n",
       "    <tr style=\"text-align: right;\">\n",
       "      <th></th>\n",
       "      <th>PassengerId</th>\n",
       "      <th>Survived</th>\n",
       "      <th>Pclass</th>\n",
       "      <th>Name</th>\n",
       "      <th>Sex</th>\n",
       "      <th>Age</th>\n",
       "      <th>SibSp</th>\n",
       "      <th>Parch</th>\n",
       "      <th>Ticket</th>\n",
       "      <th>Fare</th>\n",
       "      <th>Cabin</th>\n",
       "      <th>Embarked</th>\n",
       "    </tr>\n",
       "  </thead>\n",
       "  <tbody>\n",
       "    <tr>\n",
       "      <th>0</th>\n",
       "      <td>1</td>\n",
       "      <td>0</td>\n",
       "      <td>3</td>\n",
       "      <td>Braund, Mr. Owen Harris</td>\n",
       "      <td>male</td>\n",
       "      <td>22.0</td>\n",
       "      <td>1</td>\n",
       "      <td>0</td>\n",
       "      <td>A/5 21171</td>\n",
       "      <td>7.2500</td>\n",
       "      <td>NaN</td>\n",
       "      <td>S</td>\n",
       "    </tr>\n",
       "    <tr>\n",
       "      <th>1</th>\n",
       "      <td>2</td>\n",
       "      <td>1</td>\n",
       "      <td>1</td>\n",
       "      <td>Cumings, Mrs. John Bradley (Florence Briggs Th...</td>\n",
       "      <td>female</td>\n",
       "      <td>38.0</td>\n",
       "      <td>1</td>\n",
       "      <td>0</td>\n",
       "      <td>PC 17599</td>\n",
       "      <td>71.2833</td>\n",
       "      <td>C85</td>\n",
       "      <td>C</td>\n",
       "    </tr>\n",
       "    <tr>\n",
       "      <th>2</th>\n",
       "      <td>3</td>\n",
       "      <td>1</td>\n",
       "      <td>3</td>\n",
       "      <td>Heikkinen, Miss. Laina</td>\n",
       "      <td>female</td>\n",
       "      <td>26.0</td>\n",
       "      <td>0</td>\n",
       "      <td>0</td>\n",
       "      <td>STON/O2. 3101282</td>\n",
       "      <td>7.9250</td>\n",
       "      <td>NaN</td>\n",
       "      <td>S</td>\n",
       "    </tr>\n",
       "    <tr>\n",
       "      <th>3</th>\n",
       "      <td>4</td>\n",
       "      <td>1</td>\n",
       "      <td>1</td>\n",
       "      <td>Futrelle, Mrs. Jacques Heath (Lily May Peel)</td>\n",
       "      <td>female</td>\n",
       "      <td>35.0</td>\n",
       "      <td>1</td>\n",
       "      <td>0</td>\n",
       "      <td>113803</td>\n",
       "      <td>53.1000</td>\n",
       "      <td>C123</td>\n",
       "      <td>S</td>\n",
       "    </tr>\n",
       "    <tr>\n",
       "      <th>4</th>\n",
       "      <td>5</td>\n",
       "      <td>0</td>\n",
       "      <td>3</td>\n",
       "      <td>Allen, Mr. William Henry</td>\n",
       "      <td>male</td>\n",
       "      <td>35.0</td>\n",
       "      <td>0</td>\n",
       "      <td>0</td>\n",
       "      <td>373450</td>\n",
       "      <td>8.0500</td>\n",
       "      <td>NaN</td>\n",
       "      <td>S</td>\n",
       "    </tr>\n",
       "    <tr>\n",
       "      <th>5</th>\n",
       "      <td>6</td>\n",
       "      <td>0</td>\n",
       "      <td>3</td>\n",
       "      <td>Moran, Mr. James</td>\n",
       "      <td>male</td>\n",
       "      <td>NaN</td>\n",
       "      <td>0</td>\n",
       "      <td>0</td>\n",
       "      <td>330877</td>\n",
       "      <td>8.4583</td>\n",
       "      <td>NaN</td>\n",
       "      <td>Q</td>\n",
       "    </tr>\n",
       "    <tr>\n",
       "      <th>6</th>\n",
       "      <td>7</td>\n",
       "      <td>0</td>\n",
       "      <td>1</td>\n",
       "      <td>McCarthy, Mr. Timothy J</td>\n",
       "      <td>male</td>\n",
       "      <td>54.0</td>\n",
       "      <td>0</td>\n",
       "      <td>0</td>\n",
       "      <td>17463</td>\n",
       "      <td>51.8625</td>\n",
       "      <td>E46</td>\n",
       "      <td>S</td>\n",
       "    </tr>\n",
       "    <tr>\n",
       "      <th>7</th>\n",
       "      <td>8</td>\n",
       "      <td>0</td>\n",
       "      <td>3</td>\n",
       "      <td>Palsson, Master. Gosta Leonard</td>\n",
       "      <td>male</td>\n",
       "      <td>2.0</td>\n",
       "      <td>3</td>\n",
       "      <td>1</td>\n",
       "      <td>349909</td>\n",
       "      <td>21.0750</td>\n",
       "      <td>NaN</td>\n",
       "      <td>S</td>\n",
       "    </tr>\n",
       "    <tr>\n",
       "      <th>8</th>\n",
       "      <td>9</td>\n",
       "      <td>1</td>\n",
       "      <td>3</td>\n",
       "      <td>Johnson, Mrs. Oscar W (Elisabeth Vilhelmina Berg)</td>\n",
       "      <td>female</td>\n",
       "      <td>27.0</td>\n",
       "      <td>0</td>\n",
       "      <td>2</td>\n",
       "      <td>347742</td>\n",
       "      <td>11.1333</td>\n",
       "      <td>NaN</td>\n",
       "      <td>S</td>\n",
       "    </tr>\n",
       "    <tr>\n",
       "      <th>9</th>\n",
       "      <td>10</td>\n",
       "      <td>1</td>\n",
       "      <td>2</td>\n",
       "      <td>Nasser, Mrs. Nicholas (Adele Achem)</td>\n",
       "      <td>female</td>\n",
       "      <td>14.0</td>\n",
       "      <td>1</td>\n",
       "      <td>0</td>\n",
       "      <td>237736</td>\n",
       "      <td>30.0708</td>\n",
       "      <td>NaN</td>\n",
       "      <td>C</td>\n",
       "    </tr>\n",
       "    <tr>\n",
       "      <th>10</th>\n",
       "      <td>11</td>\n",
       "      <td>1</td>\n",
       "      <td>3</td>\n",
       "      <td>Sandstrom, Miss. Marguerite Rut</td>\n",
       "      <td>female</td>\n",
       "      <td>4.0</td>\n",
       "      <td>1</td>\n",
       "      <td>1</td>\n",
       "      <td>PP 9549</td>\n",
       "      <td>16.7000</td>\n",
       "      <td>G6</td>\n",
       "      <td>S</td>\n",
       "    </tr>\n",
       "    <tr>\n",
       "      <th>11</th>\n",
       "      <td>12</td>\n",
       "      <td>1</td>\n",
       "      <td>1</td>\n",
       "      <td>Bonnell, Miss. Elizabeth</td>\n",
       "      <td>female</td>\n",
       "      <td>58.0</td>\n",
       "      <td>0</td>\n",
       "      <td>0</td>\n",
       "      <td>113783</td>\n",
       "      <td>26.5500</td>\n",
       "      <td>C103</td>\n",
       "      <td>S</td>\n",
       "    </tr>\n",
       "    <tr>\n",
       "      <th>12</th>\n",
       "      <td>13</td>\n",
       "      <td>0</td>\n",
       "      <td>3</td>\n",
       "      <td>Saundercock, Mr. William Henry</td>\n",
       "      <td>male</td>\n",
       "      <td>20.0</td>\n",
       "      <td>0</td>\n",
       "      <td>0</td>\n",
       "      <td>A/5. 2151</td>\n",
       "      <td>8.0500</td>\n",
       "      <td>NaN</td>\n",
       "      <td>S</td>\n",
       "    </tr>\n",
       "    <tr>\n",
       "      <th>13</th>\n",
       "      <td>14</td>\n",
       "      <td>0</td>\n",
       "      <td>3</td>\n",
       "      <td>Andersson, Mr. Anders Johan</td>\n",
       "      <td>male</td>\n",
       "      <td>39.0</td>\n",
       "      <td>1</td>\n",
       "      <td>5</td>\n",
       "      <td>347082</td>\n",
       "      <td>31.2750</td>\n",
       "      <td>NaN</td>\n",
       "      <td>S</td>\n",
       "    </tr>\n",
       "    <tr>\n",
       "      <th>14</th>\n",
       "      <td>15</td>\n",
       "      <td>0</td>\n",
       "      <td>3</td>\n",
       "      <td>Vestrom, Miss. Hulda Amanda Adolfina</td>\n",
       "      <td>female</td>\n",
       "      <td>14.0</td>\n",
       "      <td>0</td>\n",
       "      <td>0</td>\n",
       "      <td>350406</td>\n",
       "      <td>7.8542</td>\n",
       "      <td>NaN</td>\n",
       "      <td>S</td>\n",
       "    </tr>\n",
       "    <tr>\n",
       "      <th>15</th>\n",
       "      <td>16</td>\n",
       "      <td>1</td>\n",
       "      <td>2</td>\n",
       "      <td>Hewlett, Mrs. (Mary D Kingcome)</td>\n",
       "      <td>female</td>\n",
       "      <td>55.0</td>\n",
       "      <td>0</td>\n",
       "      <td>0</td>\n",
       "      <td>248706</td>\n",
       "      <td>16.0000</td>\n",
       "      <td>NaN</td>\n",
       "      <td>S</td>\n",
       "    </tr>\n",
       "    <tr>\n",
       "      <th>16</th>\n",
       "      <td>17</td>\n",
       "      <td>0</td>\n",
       "      <td>3</td>\n",
       "      <td>Rice, Master. Eugene</td>\n",
       "      <td>male</td>\n",
       "      <td>2.0</td>\n",
       "      <td>4</td>\n",
       "      <td>1</td>\n",
       "      <td>382652</td>\n",
       "      <td>29.1250</td>\n",
       "      <td>NaN</td>\n",
       "      <td>Q</td>\n",
       "    </tr>\n",
       "    <tr>\n",
       "      <th>17</th>\n",
       "      <td>18</td>\n",
       "      <td>1</td>\n",
       "      <td>2</td>\n",
       "      <td>Williams, Mr. Charles Eugene</td>\n",
       "      <td>male</td>\n",
       "      <td>NaN</td>\n",
       "      <td>0</td>\n",
       "      <td>0</td>\n",
       "      <td>244373</td>\n",
       "      <td>13.0000</td>\n",
       "      <td>NaN</td>\n",
       "      <td>S</td>\n",
       "    </tr>\n",
       "    <tr>\n",
       "      <th>18</th>\n",
       "      <td>19</td>\n",
       "      <td>0</td>\n",
       "      <td>3</td>\n",
       "      <td>Vander Planke, Mrs. Julius (Emelia Maria Vande...</td>\n",
       "      <td>female</td>\n",
       "      <td>31.0</td>\n",
       "      <td>1</td>\n",
       "      <td>0</td>\n",
       "      <td>345763</td>\n",
       "      <td>18.0000</td>\n",
       "      <td>NaN</td>\n",
       "      <td>S</td>\n",
       "    </tr>\n",
       "    <tr>\n",
       "      <th>19</th>\n",
       "      <td>20</td>\n",
       "      <td>1</td>\n",
       "      <td>3</td>\n",
       "      <td>Masselmani, Mrs. Fatima</td>\n",
       "      <td>female</td>\n",
       "      <td>NaN</td>\n",
       "      <td>0</td>\n",
       "      <td>0</td>\n",
       "      <td>2649</td>\n",
       "      <td>7.2250</td>\n",
       "      <td>NaN</td>\n",
       "      <td>C</td>\n",
       "    </tr>\n",
       "    <tr>\n",
       "      <th>20</th>\n",
       "      <td>21</td>\n",
       "      <td>0</td>\n",
       "      <td>2</td>\n",
       "      <td>Fynney, Mr. Joseph J</td>\n",
       "      <td>male</td>\n",
       "      <td>35.0</td>\n",
       "      <td>0</td>\n",
       "      <td>0</td>\n",
       "      <td>239865</td>\n",
       "      <td>26.0000</td>\n",
       "      <td>NaN</td>\n",
       "      <td>S</td>\n",
       "    </tr>\n",
       "    <tr>\n",
       "      <th>21</th>\n",
       "      <td>22</td>\n",
       "      <td>1</td>\n",
       "      <td>2</td>\n",
       "      <td>Beesley, Mr. Lawrence</td>\n",
       "      <td>male</td>\n",
       "      <td>34.0</td>\n",
       "      <td>0</td>\n",
       "      <td>0</td>\n",
       "      <td>248698</td>\n",
       "      <td>13.0000</td>\n",
       "      <td>D56</td>\n",
       "      <td>S</td>\n",
       "    </tr>\n",
       "    <tr>\n",
       "      <th>22</th>\n",
       "      <td>23</td>\n",
       "      <td>1</td>\n",
       "      <td>3</td>\n",
       "      <td>McGowan, Miss. Anna \"Annie\"</td>\n",
       "      <td>female</td>\n",
       "      <td>15.0</td>\n",
       "      <td>0</td>\n",
       "      <td>0</td>\n",
       "      <td>330923</td>\n",
       "      <td>8.0292</td>\n",
       "      <td>NaN</td>\n",
       "      <td>Q</td>\n",
       "    </tr>\n",
       "    <tr>\n",
       "      <th>23</th>\n",
       "      <td>24</td>\n",
       "      <td>1</td>\n",
       "      <td>1</td>\n",
       "      <td>Sloper, Mr. William Thompson</td>\n",
       "      <td>male</td>\n",
       "      <td>28.0</td>\n",
       "      <td>0</td>\n",
       "      <td>0</td>\n",
       "      <td>113788</td>\n",
       "      <td>35.5000</td>\n",
       "      <td>A6</td>\n",
       "      <td>S</td>\n",
       "    </tr>\n",
       "    <tr>\n",
       "      <th>24</th>\n",
       "      <td>25</td>\n",
       "      <td>0</td>\n",
       "      <td>3</td>\n",
       "      <td>Palsson, Miss. Torborg Danira</td>\n",
       "      <td>female</td>\n",
       "      <td>8.0</td>\n",
       "      <td>3</td>\n",
       "      <td>1</td>\n",
       "      <td>349909</td>\n",
       "      <td>21.0750</td>\n",
       "      <td>NaN</td>\n",
       "      <td>S</td>\n",
       "    </tr>\n",
       "    <tr>\n",
       "      <th>25</th>\n",
       "      <td>26</td>\n",
       "      <td>1</td>\n",
       "      <td>3</td>\n",
       "      <td>Asplund, Mrs. Carl Oscar (Selma Augusta Emilia...</td>\n",
       "      <td>female</td>\n",
       "      <td>38.0</td>\n",
       "      <td>1</td>\n",
       "      <td>5</td>\n",
       "      <td>347077</td>\n",
       "      <td>31.3875</td>\n",
       "      <td>NaN</td>\n",
       "      <td>S</td>\n",
       "    </tr>\n",
       "    <tr>\n",
       "      <th>26</th>\n",
       "      <td>27</td>\n",
       "      <td>0</td>\n",
       "      <td>3</td>\n",
       "      <td>Emir, Mr. Farred Chehab</td>\n",
       "      <td>male</td>\n",
       "      <td>NaN</td>\n",
       "      <td>0</td>\n",
       "      <td>0</td>\n",
       "      <td>2631</td>\n",
       "      <td>7.2250</td>\n",
       "      <td>NaN</td>\n",
       "      <td>C</td>\n",
       "    </tr>\n",
       "    <tr>\n",
       "      <th>27</th>\n",
       "      <td>28</td>\n",
       "      <td>0</td>\n",
       "      <td>1</td>\n",
       "      <td>Fortune, Mr. Charles Alexander</td>\n",
       "      <td>male</td>\n",
       "      <td>19.0</td>\n",
       "      <td>3</td>\n",
       "      <td>2</td>\n",
       "      <td>19950</td>\n",
       "      <td>263.0000</td>\n",
       "      <td>C23 C25 C27</td>\n",
       "      <td>S</td>\n",
       "    </tr>\n",
       "    <tr>\n",
       "      <th>28</th>\n",
       "      <td>29</td>\n",
       "      <td>1</td>\n",
       "      <td>3</td>\n",
       "      <td>O'Dwyer, Miss. Ellen \"Nellie\"</td>\n",
       "      <td>female</td>\n",
       "      <td>NaN</td>\n",
       "      <td>0</td>\n",
       "      <td>0</td>\n",
       "      <td>330959</td>\n",
       "      <td>7.8792</td>\n",
       "      <td>NaN</td>\n",
       "      <td>Q</td>\n",
       "    </tr>\n",
       "    <tr>\n",
       "      <th>29</th>\n",
       "      <td>30</td>\n",
       "      <td>0</td>\n",
       "      <td>3</td>\n",
       "      <td>Todoroff, Mr. Lalio</td>\n",
       "      <td>male</td>\n",
       "      <td>NaN</td>\n",
       "      <td>0</td>\n",
       "      <td>0</td>\n",
       "      <td>349216</td>\n",
       "      <td>7.8958</td>\n",
       "      <td>NaN</td>\n",
       "      <td>S</td>\n",
       "    </tr>\n",
       "  </tbody>\n",
       "</table>\n",
       "</div>"
      ],
      "text/plain": [
       "    PassengerId  Survived  Pclass  \\\n",
       "0             1         0       3   \n",
       "1             2         1       1   \n",
       "2             3         1       3   \n",
       "3             4         1       1   \n",
       "4             5         0       3   \n",
       "5             6         0       3   \n",
       "6             7         0       1   \n",
       "7             8         0       3   \n",
       "8             9         1       3   \n",
       "9            10         1       2   \n",
       "10           11         1       3   \n",
       "11           12         1       1   \n",
       "12           13         0       3   \n",
       "13           14         0       3   \n",
       "14           15         0       3   \n",
       "15           16         1       2   \n",
       "16           17         0       3   \n",
       "17           18         1       2   \n",
       "18           19         0       3   \n",
       "19           20         1       3   \n",
       "20           21         0       2   \n",
       "21           22         1       2   \n",
       "22           23         1       3   \n",
       "23           24         1       1   \n",
       "24           25         0       3   \n",
       "25           26         1       3   \n",
       "26           27         0       3   \n",
       "27           28         0       1   \n",
       "28           29         1       3   \n",
       "29           30         0       3   \n",
       "\n",
       "                                                 Name     Sex   Age  SibSp  \\\n",
       "0                             Braund, Mr. Owen Harris    male  22.0      1   \n",
       "1   Cumings, Mrs. John Bradley (Florence Briggs Th...  female  38.0      1   \n",
       "2                              Heikkinen, Miss. Laina  female  26.0      0   \n",
       "3        Futrelle, Mrs. Jacques Heath (Lily May Peel)  female  35.0      1   \n",
       "4                            Allen, Mr. William Henry    male  35.0      0   \n",
       "5                                    Moran, Mr. James    male   NaN      0   \n",
       "6                             McCarthy, Mr. Timothy J    male  54.0      0   \n",
       "7                      Palsson, Master. Gosta Leonard    male   2.0      3   \n",
       "8   Johnson, Mrs. Oscar W (Elisabeth Vilhelmina Berg)  female  27.0      0   \n",
       "9                 Nasser, Mrs. Nicholas (Adele Achem)  female  14.0      1   \n",
       "10                    Sandstrom, Miss. Marguerite Rut  female   4.0      1   \n",
       "11                           Bonnell, Miss. Elizabeth  female  58.0      0   \n",
       "12                     Saundercock, Mr. William Henry    male  20.0      0   \n",
       "13                        Andersson, Mr. Anders Johan    male  39.0      1   \n",
       "14               Vestrom, Miss. Hulda Amanda Adolfina  female  14.0      0   \n",
       "15                   Hewlett, Mrs. (Mary D Kingcome)   female  55.0      0   \n",
       "16                               Rice, Master. Eugene    male   2.0      4   \n",
       "17                       Williams, Mr. Charles Eugene    male   NaN      0   \n",
       "18  Vander Planke, Mrs. Julius (Emelia Maria Vande...  female  31.0      1   \n",
       "19                            Masselmani, Mrs. Fatima  female   NaN      0   \n",
       "20                               Fynney, Mr. Joseph J    male  35.0      0   \n",
       "21                              Beesley, Mr. Lawrence    male  34.0      0   \n",
       "22                        McGowan, Miss. Anna \"Annie\"  female  15.0      0   \n",
       "23                       Sloper, Mr. William Thompson    male  28.0      0   \n",
       "24                      Palsson, Miss. Torborg Danira  female   8.0      3   \n",
       "25  Asplund, Mrs. Carl Oscar (Selma Augusta Emilia...  female  38.0      1   \n",
       "26                            Emir, Mr. Farred Chehab    male   NaN      0   \n",
       "27                     Fortune, Mr. Charles Alexander    male  19.0      3   \n",
       "28                      O'Dwyer, Miss. Ellen \"Nellie\"  female   NaN      0   \n",
       "29                                Todoroff, Mr. Lalio    male   NaN      0   \n",
       "\n",
       "    Parch            Ticket      Fare        Cabin Embarked  \n",
       "0       0         A/5 21171    7.2500          NaN        S  \n",
       "1       0          PC 17599   71.2833          C85        C  \n",
       "2       0  STON/O2. 3101282    7.9250          NaN        S  \n",
       "3       0            113803   53.1000         C123        S  \n",
       "4       0            373450    8.0500          NaN        S  \n",
       "5       0            330877    8.4583          NaN        Q  \n",
       "6       0             17463   51.8625          E46        S  \n",
       "7       1            349909   21.0750          NaN        S  \n",
       "8       2            347742   11.1333          NaN        S  \n",
       "9       0            237736   30.0708          NaN        C  \n",
       "10      1           PP 9549   16.7000           G6        S  \n",
       "11      0            113783   26.5500         C103        S  \n",
       "12      0         A/5. 2151    8.0500          NaN        S  \n",
       "13      5            347082   31.2750          NaN        S  \n",
       "14      0            350406    7.8542          NaN        S  \n",
       "15      0            248706   16.0000          NaN        S  \n",
       "16      1            382652   29.1250          NaN        Q  \n",
       "17      0            244373   13.0000          NaN        S  \n",
       "18      0            345763   18.0000          NaN        S  \n",
       "19      0              2649    7.2250          NaN        C  \n",
       "20      0            239865   26.0000          NaN        S  \n",
       "21      0            248698   13.0000          D56        S  \n",
       "22      0            330923    8.0292          NaN        Q  \n",
       "23      0            113788   35.5000           A6        S  \n",
       "24      1            349909   21.0750          NaN        S  \n",
       "25      5            347077   31.3875          NaN        S  \n",
       "26      0              2631    7.2250          NaN        C  \n",
       "27      2             19950  263.0000  C23 C25 C27        S  \n",
       "28      0            330959    7.8792          NaN        Q  \n",
       "29      0            349216    7.8958          NaN        S  "
      ]
     },
     "execution_count": 3,
     "metadata": {},
     "output_type": "execute_result"
    }
   ],
   "source": [
    "# Eseguendo l'estrazione dal Dataframe di Train, si potrà notare che molti record\n",
    "# contengono campi valorizzati a \"NULL\" (dove si vede indicato \"NaN\" ovvero \"Not a\n",
    "# Number\"). Quando si fa il Training di un Modello usando un Dataset, non è mai buona\n",
    "# cosa avere dei dati mancanti, perchè stiamo dando delle informazioni poco precise\n",
    "# e quando ci troveremo ad usare il nostro Modello per fare previsioni su Dati\n",
    "# mai visti prima, la capacità di generalizzare e la conseguente precisione dei\n",
    "# risultati ne risentiranno.\n",
    "# Vedremo nel proseguo che nel corso della nostra fase di Data Preparation ci\n",
    "# prenderemo cura di sostituire questi dati mancanti con valori opportuni oppure,\n",
    "# laddove questo non fosse possibile, elimineremo i relativi record. Questo ci\n",
    "# consentirà un migliore training del nostro Modello\n",
    "train.head(30)"
   ]
  },
  {
   "cell_type": "markdown",
   "metadata": {},
   "source": [
    "### Visualizziamo la Distribuzione per Età dei passeggeri in ognuna delle tre Classi di Viaggio della nave"
   ]
  },
  {
   "cell_type": "markdown",
   "metadata": {},
   "source": [
    "Come abbiamo potuto notare poc'anzi visualizzando il nostro Dataframe di Test, che dobbiamo usare per l'apprendimento del nostro Mofdello, una delle informazioni fondamentali, ovvero l'Età del Passeggero, in parecchi casi risulta essere assente.\n",
    "\n",
    "Questo è senz'altro un problema a cui dobbiamo porre rimedio. Dobbiamo integrare quest'informazione mancante in maniera ragionata. Per poterlo fare cominciamo quindi con lo stimare qual e' la Distribuzione per Eta' dei Passeggeri nelle tre Classi della nave usando le informazioni che invece sono presenti.\n",
    "\n",
    "Visualizzeremo questa informazione tramite un \"Box Chart\", molto adatto a fornire un colpo d'occhio immediato per questo tipo di informazioni"
   ]
  },
  {
   "cell_type": "code",
   "execution_count": 4,
   "metadata": {},
   "outputs": [
    {
     "data": {
      "text/plain": [
       "<matplotlib.axes._subplots.AxesSubplot at 0x13bb78b10>"
      ]
     },
     "execution_count": 4,
     "metadata": {},
     "output_type": "execute_result"
    },
    {
     "data": {
      "image/png": "[encoded data removed]",
      "text/plain": [
       "<Figure size 864x504 with 1 Axes>"
      ]
     },
     "metadata": {
      "needs_background": "light"
     },
     "output_type": "display_data"
    }
   ],
   "source": [
    "# Visualizziamo la Distribuzione per Eta' dei Passeggeri nelle tre Classi della nave\n",
    "# tramite un \"Box Chart\", molto adatto a fornire un colpo d'occhio immediato per\n",
    "# questo tipo di informazioni\n",
    "plt.figure(figsize=(12, 7))\n",
    "sns.boxplot(x='Pclass', y='Age', data=train)"
   ]
  },
  {
   "cell_type": "markdown",
   "metadata": {},
   "source": [
    "### Dalla visualizzazione precedente possiamo intuire qual è l'età media dei Passeggeri in ogni Classe di Viaggio della nave"
   ]
  },
  {
   "cell_type": "markdown",
   "metadata": {},
   "source": [
    "Possiamo quindi scrivere una funzione che ci permetta, laddove il dato dell'età sia mancante nel nostro Dataset, di integrarlo in maniera ragionata:"
   ]
  },
  {
   "cell_type": "code",
   "execution_count": 5,
   "metadata": {},
   "outputs": [],
   "source": [
    "# Questa funzione riceve in input una Tupla \"Età\" + \"Classe di Viaggio\"\n",
    "# e, laddove il campo \"Età\" non risulti essere valorizzato, restituisce\n",
    "# un vlaore di default stimato in base alle nostre stime che sono\n",
    "# state spiegate poc'anzi in questo stesso Jupyter Notebook\n",
    "def assegna_eta(tupla_valori):\n",
    "    Age = tupla_valori[0]\n",
    "    Pclass = tupla_valori[1]\n",
    "    \n",
    "    if pd.isnull(Age):\n",
    "\n",
    "        if Pclass == 1:\n",
    "            return 37\n",
    "\n",
    "        elif Pclass == 2:\n",
    "            return 29\n",
    "\n",
    "        else:\n",
    "            return 24\n",
    "\n",
    "    else:\n",
    "        return Age"
   ]
  },
  {
   "cell_type": "markdown",
   "metadata": {},
   "source": [
    "### Applichiamo la funzione appena scritta al nostro Dataset"
   ]
  },
  {
   "cell_type": "markdown",
   "metadata": {},
   "source": [
    "Assegnamo quindi un'Età di default ai Passeggeri privi di tale informazione:"
   ]
  },
  {
   "cell_type": "code",
   "execution_count": 6,
   "metadata": {},
   "outputs": [],
   "source": [
    "# Modifica in-place il nostro Dataframe di riferimento, applicando\n",
    "# la funzione che integra l'Età del Passeggero laddove mancante\n",
    "train['Age'] = train[['Age','Pclass']].apply(assegna_eta,axis=1)"
   ]
  },
  {
   "cell_type": "markdown",
   "metadata": {},
   "source": [
    "### Il campo \"Età\" è stato sistemato, ma ci accorgiamo che nel campo \"Cabina\" abbiamo un grande numero di valori \"NULL\""
   ]
  },
  {
   "cell_type": "markdown",
   "metadata": {},
   "source": [
    "In questo caso, stimare un valore di default è impresa praticamente impossibile, e comunque non appare di fondamentale importanza categorizzare la \"Cabina\" del Passeggero in esame ai fini di far apprendere il nostro Algoritmo.\n",
    "\n",
    "Si decide quindi di eliminare completamente la Colonna dal Dataset, così come eliminiamo anche altre due Colonne contenenti informazioni non strutturate e di dubbia utilità per il Training, ovvero \"Ticket\" e ovviamente \"PassengerId\", in quando l'ID del Passeggero non è utile in questa fase:"
   ]
  },
  {
   "cell_type": "code",
   "execution_count": 7,
   "metadata": {},
   "outputs": [],
   "source": [
    "# Drop delle Colonne non utilizzabili o non interessanti\n",
    "train.drop('Cabin',axis=1,inplace=True)\n",
    "train.drop('Ticket',axis=1,inplace=True)\n",
    "train.drop('PassengerId',axis=1,inplace=True)"
   ]
  },
  {
   "cell_type": "markdown",
   "metadata": {},
   "source": [
    "### A questo punto tutti i Campi con valore \"NULL\" dovrebbero essere stati trattati, in un modo o nell'altro"
   ]
  },
  {
   "cell_type": "markdown",
   "metadata": {},
   "source": [
    "Per accertarci che non restino ulteriori Record spuri, eseguiamo la seguente riga di codice che elimina dal Dataframe qualsiasi ulteriore riga contenete \"NULL\" che dovesse essere rimasta:"
   ]
  },
  {
   "cell_type": "code",
   "execution_count": 8,
   "metadata": {},
   "outputs": [],
   "source": [
    "# Drop di qualsiasi Colonna sia rimasta con valori \"NULL\"\n",
    "train.dropna(inplace=True)"
   ]
  },
  {
   "cell_type": "markdown",
   "metadata": {},
   "source": [
    "### Possiamo a questo punto ispezionare visivamente un campione del Dataframe di Train, per capire come sia stato trasformato nel corso delle operazioni effettuate"
   ]
  },
  {
   "cell_type": "markdown",
   "metadata": {},
   "source": [
    "Usando la stessa tecnica vista poc'anzi, visualizziamo alcuni Dati del Dataframe finora elavorato:"
   ]
  },
  {
   "cell_type": "code",
   "execution_count": 9,
   "metadata": {},
   "outputs": [
    {
     "data": {
      "text/html": [
       "<div>\n",
       "<style scoped>\n",
       "    .dataframe tbody tr th:only-of-type {\n",
       "        vertical-align: middle;\n",
       "    }\n",
       "\n",
       "    .dataframe tbody tr th {\n",
       "        vertical-align: top;\n",
       "    }\n",
       "\n",
       "    .dataframe thead th {\n",
       "        text-align: right;\n",
       "    }\n",
       "</style>\n",
       "<table border=\"1\" class=\"dataframe\">\n",
       "  <thead>\n",
       "    <tr style=\"text-align: right;\">\n",
       "      <th></th>\n",
       "      <th>Survived</th>\n",
       "      <th>Pclass</th>\n",
       "      <th>Name</th>\n",
       "      <th>Sex</th>\n",
       "      <th>Age</th>\n",
       "      <th>SibSp</th>\n",
       "      <th>Parch</th>\n",
       "      <th>Fare</th>\n",
       "      <th>Embarked</th>\n",
       "    </tr>\n",
       "  </thead>\n",
       "  <tbody>\n",
       "    <tr>\n",
       "      <th>0</th>\n",
       "      <td>0</td>\n",
       "      <td>3</td>\n",
       "      <td>Braund, Mr. Owen Harris</td>\n",
       "      <td>male</td>\n",
       "      <td>22.0</td>\n",
       "      <td>1</td>\n",
       "      <td>0</td>\n",
       "      <td>7.2500</td>\n",
       "      <td>S</td>\n",
       "    </tr>\n",
       "    <tr>\n",
       "      <th>1</th>\n",
       "      <td>1</td>\n",
       "      <td>1</td>\n",
       "      <td>Cumings, Mrs. John Bradley (Florence Briggs Th...</td>\n",
       "      <td>female</td>\n",
       "      <td>38.0</td>\n",
       "      <td>1</td>\n",
       "      <td>0</td>\n",
       "      <td>71.2833</td>\n",
       "      <td>C</td>\n",
       "    </tr>\n",
       "    <tr>\n",
       "      <th>2</th>\n",
       "      <td>1</td>\n",
       "      <td>3</td>\n",
       "      <td>Heikkinen, Miss. Laina</td>\n",
       "      <td>female</td>\n",
       "      <td>26.0</td>\n",
       "      <td>0</td>\n",
       "      <td>0</td>\n",
       "      <td>7.9250</td>\n",
       "      <td>S</td>\n",
       "    </tr>\n",
       "    <tr>\n",
       "      <th>3</th>\n",
       "      <td>1</td>\n",
       "      <td>1</td>\n",
       "      <td>Futrelle, Mrs. Jacques Heath (Lily May Peel)</td>\n",
       "      <td>female</td>\n",
       "      <td>35.0</td>\n",
       "      <td>1</td>\n",
       "      <td>0</td>\n",
       "      <td>53.1000</td>\n",
       "      <td>S</td>\n",
       "    </tr>\n",
       "    <tr>\n",
       "      <th>4</th>\n",
       "      <td>0</td>\n",
       "      <td>3</td>\n",
       "      <td>Allen, Mr. William Henry</td>\n",
       "      <td>male</td>\n",
       "      <td>35.0</td>\n",
       "      <td>0</td>\n",
       "      <td>0</td>\n",
       "      <td>8.0500</td>\n",
       "      <td>S</td>\n",
       "    </tr>\n",
       "  </tbody>\n",
       "</table>\n",
       "</div>"
      ],
      "text/plain": [
       "   Survived  Pclass                                               Name  \\\n",
       "0         0       3                            Braund, Mr. Owen Harris   \n",
       "1         1       1  Cumings, Mrs. John Bradley (Florence Briggs Th...   \n",
       "2         1       3                             Heikkinen, Miss. Laina   \n",
       "3         1       1       Futrelle, Mrs. Jacques Heath (Lily May Peel)   \n",
       "4         0       3                           Allen, Mr. William Henry   \n",
       "\n",
       "      Sex   Age  SibSp  Parch     Fare Embarked  \n",
       "0    male  22.0      1      0   7.2500        S  \n",
       "1  female  38.0      1      0  71.2833        C  \n",
       "2  female  26.0      0      0   7.9250        S  \n",
       "3  female  35.0      1      0  53.1000        S  \n",
       "4    male  35.0      0      0   8.0500        S  "
      ]
     },
     "execution_count": 9,
     "metadata": {},
     "output_type": "execute_result"
    }
   ],
   "source": [
    "# Ispezioniamo visivamente il Dataframe risultante\n",
    "train.head()"
   ]
  },
  {
   "cell_type": "markdown",
   "metadata": {},
   "source": [
    "## Processiamo ora il campo \"Name\", per trasformarlo in un campo Categorical, quindi molto utile da dare in pasto al nosto Modello ai fini del Training"
   ]
  },
  {
   "cell_type": "markdown",
   "metadata": {},
   "source": [
    "Il Campo \"Name\" contiene informazioni quali:\n",
    "\n",
    "- Il Titolo (es. \"Mr\" oppure \"Mrs\" o ancora \"Ms\", spesso indicante il fatto se il Passeggero è sposato oppure no\n",
    "- Se è ad esempio un Ufficiale, o se ha incarichi sociali particolari\n",
    "- Se ha Titoli Nobiliari\n",
    "\n",
    "Tutto questo ci fornisce informazioni più dettagliate che meglio descrivono la Categoria di un Passeggero, andando olte il campo \"Sex\", che resta comunque semanticamente importantissimo.\n",
    "\n",
    "Possiamo quindi scrivere una funzione per estrarre il Titolo del Passeggero dal campo \"Name\""
   ]
  },
  {
   "cell_type": "code",
   "execution_count": 10,
   "metadata": {},
   "outputs": [],
   "source": [
    "# Funzione che splitta la Stringa \"Name\" ed estrae il Titolo\n",
    "# sociale del Passeggero in esame\n",
    "def ottieni_titolo(name):\n",
    "    if '.' in name:\n",
    "        return name.split(',')[1].split('.')[0].strip()\n",
    "    else:\n",
    "        return 'Unknown'"
   ]
  },
  {
   "cell_type": "markdown",
   "metadata": {},
   "source": [
    "Visualizziamo ora la lista dei Titoli sociali estratti:"
   ]
  },
  {
   "cell_type": "code",
   "execution_count": 11,
   "metadata": {},
   "outputs": [
    {
     "name": "stdout",
     "output_type": "stream",
     "text": [
      "Titoli sociali trovati nel dataset:\n",
      "17 : ['Capt', 'Col', 'Don', 'Dr', 'Jonkheer', 'Lady', 'Major', 'Master', 'Miss', 'Mlle', 'Mme', 'Mr', 'Mrs', 'Ms', 'Rev', 'Sir', 'the Countess']\n",
      "\n"
     ]
    }
   ],
   "source": [
    "# Visualizziamo la lista dei Titoli sociali dei Passeggeri che sono\n",
    "# stati rilevati dalla nostra funzione di estrazione\n",
    "titoli = sorted(set([x for x in train.Name.map(lambda x: ottieni_titolo(x))]))\n",
    "print('Titoli sociali trovati nel dataset:')\n",
    "print(len(titoli), ':', titoli)\n",
    "print()"
   ]
  },
  {
   "cell_type": "markdown",
   "metadata": {},
   "source": [
    "Come spiegato prima, siamo ora in grado di convertire il campo \"Name\" (un campo non strutturato e che non offre informazioni utili all'apprendimento del Modello) in un campo di tipo \"Categorical\", strutturato e ad alto valore informativo"
   ]
  },
  {
   "cell_type": "code",
   "execution_count": 12,
   "metadata": {},
   "outputs": [],
   "source": [
    "# Creiamo una Categorizzazione dei Titoli sociali, ritornando\n",
    "# per ogni Passeggero in esame se di tratta di\n",
    "# \"Mr\", \"Master\", Mrs\", \"Miss\", \"Ufficiale\", \"Nobile\"\n",
    "def codifica_titolo(record_completo):\n",
    "    titolo = record_completo['Title']\n",
    "    if titolo in ['Capt', 'Col', 'Major', 'Rev']:\n",
    "        return 'Ufficiale'\n",
    "    elif titolo in ['the Countess', 'Mme', 'Lady', 'Don', 'Dona', 'Jonkheer', 'Sir']:\n",
    "        return 'Nobile'\n",
    "    elif titolo in ['Mlle', 'Ms']:\n",
    "        return 'Miss'\n",
    "    elif titolo =='Dr':\n",
    "        if record_completo['Sex']=='male':\n",
    "            return 'Mr'\n",
    "        else:\n",
    "            return 'Mrs'\n",
    "    else:\n",
    "        return titolo"
   ]
  },
  {
   "cell_type": "markdown",
   "metadata": {},
   "source": [
    "### A questo punto possiamo applicare la funzione di Categorizzazione del Titolo sociale al nostro Dataframe di Train"
   ]
  },
  {
   "cell_type": "markdown",
   "metadata": {},
   "source": [
    "Potremo così creare una nuova Colonna \"Title\". Inoltre, possiamo successivamente eliminare la Colonna \"Name\", che come abbiamo visto non contiene di per sè informazioni strutturate utili al Training del Modello:"
   ]
  },
  {
   "cell_type": "code",
   "execution_count": 13,
   "metadata": {},
   "outputs": [],
   "source": [
    "# Decodifichiamo la Colonna \"Name\" ed estraiamo il\n",
    "# Titolo sociale del Passeggero in esame\n",
    "train['Title'] = train['Name'].map(lambda x: ottieni_titolo(x))\n",
    "\n",
    "# Infine, rimpiazziamo il Titolo appena estratto con una sua\n",
    "# codifica Categorica ancora più strutturata\n",
    "train['Title'] = train.apply(codifica_titolo, axis=1)\n",
    "\n",
    "# Ora la colonna \"Name\", non strutturata, non ci serve\n",
    "# più ai fini dell'Apprendimento del nostro Modello, e\n",
    "# quindi la eliminamo dal Dataframe\n",
    "train.drop('Name', axis=1, inplace=True)"
   ]
  },
  {
   "cell_type": "code",
   "execution_count": 14,
   "metadata": {},
   "outputs": [
    {
     "data": {
      "text/html": [
       "<div>\n",
       "<style scoped>\n",
       "    .dataframe tbody tr th:only-of-type {\n",
       "        vertical-align: middle;\n",
       "    }\n",
       "\n",
       "    .dataframe tbody tr th {\n",
       "        vertical-align: top;\n",
       "    }\n",
       "\n",
       "    .dataframe thead th {\n",
       "        text-align: right;\n",
       "    }\n",
       "</style>\n",
       "<table border=\"1\" class=\"dataframe\">\n",
       "  <thead>\n",
       "    <tr style=\"text-align: right;\">\n",
       "      <th></th>\n",
       "      <th>Survived</th>\n",
       "      <th>Pclass</th>\n",
       "      <th>Sex</th>\n",
       "      <th>Age</th>\n",
       "      <th>SibSp</th>\n",
       "      <th>Parch</th>\n",
       "      <th>Fare</th>\n",
       "      <th>Embarked</th>\n",
       "      <th>Title</th>\n",
       "    </tr>\n",
       "  </thead>\n",
       "  <tbody>\n",
       "    <tr>\n",
       "      <th>0</th>\n",
       "      <td>0</td>\n",
       "      <td>3</td>\n",
       "      <td>male</td>\n",
       "      <td>22.0</td>\n",
       "      <td>1</td>\n",
       "      <td>0</td>\n",
       "      <td>7.2500</td>\n",
       "      <td>S</td>\n",
       "      <td>Mr</td>\n",
       "    </tr>\n",
       "    <tr>\n",
       "      <th>1</th>\n",
       "      <td>1</td>\n",
       "      <td>1</td>\n",
       "      <td>female</td>\n",
       "      <td>38.0</td>\n",
       "      <td>1</td>\n",
       "      <td>0</td>\n",
       "      <td>71.2833</td>\n",
       "      <td>C</td>\n",
       "      <td>Mrs</td>\n",
       "    </tr>\n",
       "    <tr>\n",
       "      <th>2</th>\n",
       "      <td>1</td>\n",
       "      <td>3</td>\n",
       "      <td>female</td>\n",
       "      <td>26.0</td>\n",
       "      <td>0</td>\n",
       "      <td>0</td>\n",
       "      <td>7.9250</td>\n",
       "      <td>S</td>\n",
       "      <td>Miss</td>\n",
       "    </tr>\n",
       "    <tr>\n",
       "      <th>3</th>\n",
       "      <td>1</td>\n",
       "      <td>1</td>\n",
       "      <td>female</td>\n",
       "      <td>35.0</td>\n",
       "      <td>1</td>\n",
       "      <td>0</td>\n",
       "      <td>53.1000</td>\n",
       "      <td>S</td>\n",
       "      <td>Mrs</td>\n",
       "    </tr>\n",
       "    <tr>\n",
       "      <th>4</th>\n",
       "      <td>0</td>\n",
       "      <td>3</td>\n",
       "      <td>male</td>\n",
       "      <td>35.0</td>\n",
       "      <td>0</td>\n",
       "      <td>0</td>\n",
       "      <td>8.0500</td>\n",
       "      <td>S</td>\n",
       "      <td>Mr</td>\n",
       "    </tr>\n",
       "  </tbody>\n",
       "</table>\n",
       "</div>"
      ],
      "text/plain": [
       "   Survived  Pclass     Sex   Age  SibSp  Parch     Fare Embarked Title\n",
       "0         0       3    male  22.0      1      0   7.2500        S    Mr\n",
       "1         1       1  female  38.0      1      0  71.2833        C   Mrs\n",
       "2         1       3  female  26.0      0      0   7.9250        S  Miss\n",
       "3         1       1  female  35.0      1      0  53.1000        S   Mrs\n",
       "4         0       3    male  35.0      0      0   8.0500        S    Mr"
      ]
     },
     "execution_count": 14,
     "metadata": {},
     "output_type": "execute_result"
    }
   ],
   "source": [
    "# Ispezioniamo visivamente il Dataframe risultante\n",
    "train.head()"
   ]
  },
  {
   "cell_type": "markdown",
   "metadata": {},
   "source": [
    "## Convertiamo le Variabili Categoriche in valori numerici \"One-Hot Encoded\""
   ]
  },
  {
   "cell_type": "markdown",
   "metadata": {},
   "source": [
    "Allo scopo di preparare il Dato per essere dato in pasto a un Modello per eseguirne il Training, è pratica comune nel Machine Learning effettuare quello che viene definito \"One-Hot Encoding\" delle Variabili Categoriche.\n",
    "\n",
    "Questo significa che se abbiamo una Colonna Categorica nel nostro Dataframe, ad esempio \"Title\", è necessario splittarla in un numero di colonne pari al numero di Categorie che la colonnaoriginale può assumere.\n",
    "\n",
    "Ognuna delle nuove Colonne \"Dummy\" potrà avere valore \"0\" oppure \"1\" a seconda che il Passeggero in esame rientri in quella Categoria oppure no.\n",
    "\n",
    "Per fare un esempio pratico, le possibili Categorie che troviamo nella colonna \"Title\" sono le seguenti: \"Mr\", \"Miss\", \"Master\", \"Mrs\", \"Nobile\", \"Ufficiale\".\n",
    "\n",
    "In questo caso specifico, il nostro obiettivo è, partendo dalla Colonna \"Title\", ottenere invece 6 colonne derivate, quelle elencate poc'anzi. Ognuna di tali Colonne assumerà valore \"0\" oppure \"1\" a seconda che in effetti il Passeggero in esame ricada in quella Categoria!\n",
    "\n",
    "Notermo in effetti che l'Encoding eseguito usando la Libreria Pandas creerà solo 5 colonne. Il motivo è che creare 6 colonne in effetti è inutile. 5 Colonne che valgano tutte \"0\" infatti indicano implicitamente che quel Passeggero appartiene alla sesta Categoria non elencata esplicitamente"
   ]
  },
  {
   "cell_type": "markdown",
   "metadata": {},
   "source": [
    "### Effettuiamo il \"One-Hot Encoding\" delle Variabili Categorche in modo tale che la Rete Neurale possa interpretarle correttamente"
   ]
  },
  {
   "cell_type": "markdown",
   "metadata": {},
   "source": [
    "Eseguiamo ora operativamente quanto spiegato su tutte le colonne Categoriche nel nostro Dataframe, ovvero il \"Sesso\", il \"Porto di Imbarco\", il \"Titolo sociale\" e la \"Classe di Viaggio\" dei nostri Passeggeri.\n",
    "\n",
    "Avremo inoltre cura di droppare le Colonne \"originali\" che non sono \"One-Hot Encoded\".\n",
    "\n",
    "Infine, aggiorneremo la definizione del nostro Dataframe unendo alla sua destra le nuove Colonne \"One-Hot Encoded\" appena estratte:"
   ]
  },
  {
   "cell_type": "code",
   "execution_count": 15,
   "metadata": {},
   "outputs": [],
   "source": [
    "# Estraiamo le colonne \"One-Hot Encoded\" a partire dalle\n",
    "# Colonne Categoriche\n",
    "sex = pd.get_dummies(train['Sex'],drop_first=True)\n",
    "embark = pd.get_dummies(train['Embarked'],drop_first=True)\n",
    "title = pd.get_dummies(train['Title'],drop_first=True)\n",
    "travelclass = pd.get_dummies(train['Pclass'],drop_first=True)"
   ]
  },
  {
   "cell_type": "code",
   "execution_count": 16,
   "metadata": {},
   "outputs": [],
   "source": [
    "# Eliminiamo le Colonne originali e uniamo al loro posto le\n",
    "# Colonne \"One-Hot Encoded\" appena create\n",
    "train.drop(['Sex', 'Embarked', 'Title', 'Pclass'],axis=1,inplace=True)\n",
    "train = pd.concat([train, sex, embark, title, travelclass],axis=1)"
   ]
  },
  {
   "cell_type": "code",
   "execution_count": 17,
   "metadata": {},
   "outputs": [
    {
     "data": {
      "text/html": [
       "<div>\n",
       "<style scoped>\n",
       "    .dataframe tbody tr th:only-of-type {\n",
       "        vertical-align: middle;\n",
       "    }\n",
       "\n",
       "    .dataframe tbody tr th {\n",
       "        vertical-align: top;\n",
       "    }\n",
       "\n",
       "    .dataframe thead th {\n",
       "        text-align: right;\n",
       "    }\n",
       "</style>\n",
       "<table border=\"1\" class=\"dataframe\">\n",
       "  <thead>\n",
       "    <tr style=\"text-align: right;\">\n",
       "      <th></th>\n",
       "      <th>Survived</th>\n",
       "      <th>Age</th>\n",
       "      <th>SibSp</th>\n",
       "      <th>Parch</th>\n",
       "      <th>Fare</th>\n",
       "      <th>male</th>\n",
       "      <th>Q</th>\n",
       "      <th>S</th>\n",
       "      <th>Miss</th>\n",
       "      <th>Mr</th>\n",
       "      <th>Mrs</th>\n",
       "      <th>Nobile</th>\n",
       "      <th>Ufficiale</th>\n",
       "      <th>2</th>\n",
       "      <th>3</th>\n",
       "    </tr>\n",
       "  </thead>\n",
       "  <tbody>\n",
       "    <tr>\n",
       "      <th>0</th>\n",
       "      <td>0</td>\n",
       "      <td>22.0</td>\n",
       "      <td>1</td>\n",
       "      <td>0</td>\n",
       "      <td>7.2500</td>\n",
       "      <td>1</td>\n",
       "      <td>0</td>\n",
       "      <td>1</td>\n",
       "      <td>0</td>\n",
       "      <td>1</td>\n",
       "      <td>0</td>\n",
       "      <td>0</td>\n",
       "      <td>0</td>\n",
       "      <td>0</td>\n",
       "      <td>1</td>\n",
       "    </tr>\n",
       "    <tr>\n",
       "      <th>1</th>\n",
       "      <td>1</td>\n",
       "      <td>38.0</td>\n",
       "      <td>1</td>\n",
       "      <td>0</td>\n",
       "      <td>71.2833</td>\n",
       "      <td>0</td>\n",
       "      <td>0</td>\n",
       "      <td>0</td>\n",
       "      <td>0</td>\n",
       "      <td>0</td>\n",
       "      <td>1</td>\n",
       "      <td>0</td>\n",
       "      <td>0</td>\n",
       "      <td>0</td>\n",
       "      <td>0</td>\n",
       "    </tr>\n",
       "    <tr>\n",
       "      <th>2</th>\n",
       "      <td>1</td>\n",
       "      <td>26.0</td>\n",
       "      <td>0</td>\n",
       "      <td>0</td>\n",
       "      <td>7.9250</td>\n",
       "      <td>0</td>\n",
       "      <td>0</td>\n",
       "      <td>1</td>\n",
       "      <td>1</td>\n",
       "      <td>0</td>\n",
       "      <td>0</td>\n",
       "      <td>0</td>\n",
       "      <td>0</td>\n",
       "      <td>0</td>\n",
       "      <td>1</td>\n",
       "    </tr>\n",
       "    <tr>\n",
       "      <th>3</th>\n",
       "      <td>1</td>\n",
       "      <td>35.0</td>\n",
       "      <td>1</td>\n",
       "      <td>0</td>\n",
       "      <td>53.1000</td>\n",
       "      <td>0</td>\n",
       "      <td>0</td>\n",
       "      <td>1</td>\n",
       "      <td>0</td>\n",
       "      <td>0</td>\n",
       "      <td>1</td>\n",
       "      <td>0</td>\n",
       "      <td>0</td>\n",
       "      <td>0</td>\n",
       "      <td>0</td>\n",
       "    </tr>\n",
       "    <tr>\n",
       "      <th>4</th>\n",
       "      <td>0</td>\n",
       "      <td>35.0</td>\n",
       "      <td>0</td>\n",
       "      <td>0</td>\n",
       "      <td>8.0500</td>\n",
       "      <td>1</td>\n",
       "      <td>0</td>\n",
       "      <td>1</td>\n",
       "      <td>0</td>\n",
       "      <td>1</td>\n",
       "      <td>0</td>\n",
       "      <td>0</td>\n",
       "      <td>0</td>\n",
       "      <td>0</td>\n",
       "      <td>1</td>\n",
       "    </tr>\n",
       "  </tbody>\n",
       "</table>\n",
       "</div>"
      ],
      "text/plain": [
       "   Survived   Age  SibSp  Parch     Fare  male  Q  S  Miss  Mr  Mrs  Nobile  \\\n",
       "0         0  22.0      1      0   7.2500     1  0  1     0   1    0       0   \n",
       "1         1  38.0      1      0  71.2833     0  0  0     0   0    1       0   \n",
       "2         1  26.0      0      0   7.9250     0  0  1     1   0    0       0   \n",
       "3         1  35.0      1      0  53.1000     0  0  1     0   0    1       0   \n",
       "4         0  35.0      0      0   8.0500     1  0  1     0   1    0       0   \n",
       "\n",
       "   Ufficiale  2  3  \n",
       "0          0  0  1  \n",
       "1          0  0  0  \n",
       "2          0  0  1  \n",
       "3          0  0  0  \n",
       "4          0  0  1  "
      ]
     },
     "execution_count": 17,
     "metadata": {},
     "output_type": "execute_result"
    }
   ],
   "source": [
    "# Ispezioniamo visivamente il Dataframe risultante\n",
    "train.head()"
   ]
  },
  {
   "cell_type": "markdown",
   "metadata": {},
   "source": [
    "### Ridefiniamo le Colonne \"Age\" and \"Fare\" applicando la funzione Standard Scaler della Libreria SkLearn"
   ]
  },
  {
   "cell_type": "markdown",
   "metadata": {},
   "source": [
    "Quando in un Dataset sono presenti Colonne che contengano valori scalari discreti che però assumano valori molto eterogenei tra loro in termini di scala (nel nostro caso, le Colonne \"Age\" e \"Fare\" ovvero il prezzo pagato per il biglietto), è pratica comune nel Machine Learning rendere omogenee queste grandezze, in modo da aiutare la Rete Neurale che su di esse deve apprendere a convergere più rapidamente e in maniera più consistente.\n",
    "\n",
    "E' pratica comune normalizzare tutti questi valori scalari in un range che vada da -1 a +1. Nei passaggi successivi implementeremo questo accorgimento che ci permetterà di ottenere migliori risultati in termini di precisione previsionale da parte del nostro Modello."
   ]
  },
  {
   "cell_type": "code",
   "execution_count": 18,
   "metadata": {},
   "outputs": [],
   "source": [
    "# Standard Scaling della Colonna \"Age\"\n",
    "eta = train['Age'].values.reshape(train.shape[0],1)\n",
    "normalizzatore = StandardScaler()\n",
    "normalizzatore.fit(eta)\n",
    "eta_normalizzata = normalizzatore.transform(eta)\n",
    "train['Age'] = eta_normalizzata\n",
    "\n",
    "# Standard Scaling della Colonna \"Fare\"\n",
    "tariffa = train['Fare'].values.reshape(train.shape[0],1)\n",
    "normalizzatore = StandardScaler()\n",
    "normalizzatore.fit(tariffa)\n",
    "tariffa_normalizzata = normalizzatore.transform(tariffa)\n",
    "train['Fare'] = tariffa_normalizzata"
   ]
  },
  {
   "cell_type": "code",
   "execution_count": 19,
   "metadata": {},
   "outputs": [
    {
     "data": {
      "text/html": [
       "<div>\n",
       "<style scoped>\n",
       "    .dataframe tbody tr th:only-of-type {\n",
       "        vertical-align: middle;\n",
       "    }\n",
       "\n",
       "    .dataframe tbody tr th {\n",
       "        vertical-align: top;\n",
       "    }\n",
       "\n",
       "    .dataframe thead th {\n",
       "        text-align: right;\n",
       "    }\n",
       "</style>\n",
       "<table border=\"1\" class=\"dataframe\">\n",
       "  <thead>\n",
       "    <tr style=\"text-align: right;\">\n",
       "      <th></th>\n",
       "      <th>Survived</th>\n",
       "      <th>Age</th>\n",
       "      <th>SibSp</th>\n",
       "      <th>Parch</th>\n",
       "      <th>Fare</th>\n",
       "      <th>male</th>\n",
       "      <th>Q</th>\n",
       "      <th>S</th>\n",
       "      <th>Miss</th>\n",
       "      <th>Mr</th>\n",
       "      <th>Mrs</th>\n",
       "      <th>Nobile</th>\n",
       "      <th>Ufficiale</th>\n",
       "      <th>2</th>\n",
       "      <th>3</th>\n",
       "    </tr>\n",
       "  </thead>\n",
       "  <tbody>\n",
       "    <tr>\n",
       "      <th>0</th>\n",
       "      <td>0</td>\n",
       "      <td>-0.531670</td>\n",
       "      <td>1</td>\n",
       "      <td>0</td>\n",
       "      <td>-0.500240</td>\n",
       "      <td>1</td>\n",
       "      <td>0</td>\n",
       "      <td>1</td>\n",
       "      <td>0</td>\n",
       "      <td>1</td>\n",
       "      <td>0</td>\n",
       "      <td>0</td>\n",
       "      <td>0</td>\n",
       "      <td>0</td>\n",
       "      <td>1</td>\n",
       "    </tr>\n",
       "    <tr>\n",
       "      <th>1</th>\n",
       "      <td>1</td>\n",
       "      <td>0.680232</td>\n",
       "      <td>1</td>\n",
       "      <td>0</td>\n",
       "      <td>0.788947</td>\n",
       "      <td>0</td>\n",
       "      <td>0</td>\n",
       "      <td>0</td>\n",
       "      <td>0</td>\n",
       "      <td>0</td>\n",
       "      <td>1</td>\n",
       "      <td>0</td>\n",
       "      <td>0</td>\n",
       "      <td>0</td>\n",
       "      <td>0</td>\n",
       "    </tr>\n",
       "    <tr>\n",
       "      <th>2</th>\n",
       "      <td>1</td>\n",
       "      <td>-0.228695</td>\n",
       "      <td>0</td>\n",
       "      <td>0</td>\n",
       "      <td>-0.486650</td>\n",
       "      <td>0</td>\n",
       "      <td>0</td>\n",
       "      <td>1</td>\n",
       "      <td>1</td>\n",
       "      <td>0</td>\n",
       "      <td>0</td>\n",
       "      <td>0</td>\n",
       "      <td>0</td>\n",
       "      <td>0</td>\n",
       "      <td>1</td>\n",
       "    </tr>\n",
       "    <tr>\n",
       "      <th>3</th>\n",
       "      <td>1</td>\n",
       "      <td>0.453001</td>\n",
       "      <td>1</td>\n",
       "      <td>0</td>\n",
       "      <td>0.422861</td>\n",
       "      <td>0</td>\n",
       "      <td>0</td>\n",
       "      <td>1</td>\n",
       "      <td>0</td>\n",
       "      <td>0</td>\n",
       "      <td>1</td>\n",
       "      <td>0</td>\n",
       "      <td>0</td>\n",
       "      <td>0</td>\n",
       "      <td>0</td>\n",
       "    </tr>\n",
       "    <tr>\n",
       "      <th>4</th>\n",
       "      <td>0</td>\n",
       "      <td>0.453001</td>\n",
       "      <td>0</td>\n",
       "      <td>0</td>\n",
       "      <td>-0.484133</td>\n",
       "      <td>1</td>\n",
       "      <td>0</td>\n",
       "      <td>1</td>\n",
       "      <td>0</td>\n",
       "      <td>1</td>\n",
       "      <td>0</td>\n",
       "      <td>0</td>\n",
       "      <td>0</td>\n",
       "      <td>0</td>\n",
       "      <td>1</td>\n",
       "    </tr>\n",
       "  </tbody>\n",
       "</table>\n",
       "</div>"
      ],
      "text/plain": [
       "   Survived       Age  SibSp  Parch      Fare  male  Q  S  Miss  Mr  Mrs  \\\n",
       "0         0 -0.531670      1      0 -0.500240     1  0  1     0   1    0   \n",
       "1         1  0.680232      1      0  0.788947     0  0  0     0   0    1   \n",
       "2         1 -0.228695      0      0 -0.486650     0  0  1     1   0    0   \n",
       "3         1  0.453001      1      0  0.422861     0  0  1     0   0    1   \n",
       "4         0  0.453001      0      0 -0.484133     1  0  1     0   1    0   \n",
       "\n",
       "   Nobile  Ufficiale  2  3  \n",
       "0       0          0  0  1  \n",
       "1       0          0  0  0  \n",
       "2       0          0  0  1  \n",
       "3       0          0  0  0  \n",
       "4       0          0  0  1  "
      ]
     },
     "execution_count": 19,
     "metadata": {},
     "output_type": "execute_result"
    }
   ],
   "source": [
    "# Ispezioniamo visivamente il Dataframe risultante\n",
    "train.head()"
   ]
  },
  {
   "cell_type": "markdown",
   "metadata": {},
   "source": [
    "### Il Dataframe di Apprendimento è finalmente pronto in ogni sua parte e la fase di Data Preparation è conclusa! Ora possiamo dare in pasto il nostro Dataframe alla Rete Neurale per effettuarne il Training!"
   ]
  },
  {
   "cell_type": "markdown",
   "metadata": {},
   "source": [
    " "
   ]
  },
  {
   "cell_type": "markdown",
   "metadata": {},
   "source": [
    "<hr>"
   ]
  },
  {
   "cell_type": "markdown",
   "metadata": {},
   "source": [
    " "
   ]
  },
  {
   "cell_type": "markdown",
   "metadata": {},
   "source": [
    "# Creiamo e applichiamo la Rete Neurale"
   ]
  },
  {
   "cell_type": "markdown",
   "metadata": {},
   "source": [
    "Innanzitutto, splittiamo il nostro Dataframe di apprendimento preparato con fatica in due sezioni, rispettivamente composte dall'80% e dal 20% dei Record originali.\n",
    "\n",
    "Questo perchè è pratica comune nel Machine Learning tenersi da parte un subset dei Record di cui comunque conosciamo la Class Label (ovvero, nel nostro caso, il flag \"Survived\" che ci dice se il Passeggero è sopravvissuto oppure no.\n",
    "\n",
    "Man mano che il Training procede, potremo utilizzare il nostro Subset di Validazione (costituito quindi da dati che avremo artificiosamente nascosto alla Rete Neurale che sta apprendendo) e simulare una Previsione della Class Label.\n",
    "\n",
    "Potremo a questo punto confrontare la Predizione inferita dalla Rete Neurale con il valore \"vero\", e capire se la Previsione è stata corretta oppure no. Ripetendo questa operazione su tutto il Dataframe di Validazione, potremo stimare la \"Validation Accuracy\" del nostro Modello.\n",
    "\n",
    "Man mano che il Training procede, ci potremo aspettare senz'altro un incremento sulla Accuracy di Training, perchè sono dati dei quali la Rete Neurale conosce e \"utilizza\" la Class Label per migliorarsi. Ma dovremo anche verificare che di pari passo otteniamo un miglioramento anche sulle Previsioni inferite dal Set di Validazione, ovvero su dati che la Rete \"non conosce\". Questo non è scontato, ma è il vero segnale che il nostro Modello sta imparando a \"generalizzare\", e sarà quindi usabile con successo nel mondo reale.\n",
    "\n",
    "Nel nostro caso, per prevedere correttamente i risultati utili per piazzarsi bene nella Competition!"
   ]
  },
  {
   "cell_type": "markdown",
   "metadata": {},
   "source": [
    "### Prepariamo il Set di Training e il Set di Validazione"
   ]
  },
  {
   "cell_type": "markdown",
   "metadata": {},
   "source": [
    "Prepariamo un Dataframe che contiene le sole Class Label a noi note, \"y\", e un Dataframe che contiene il resto dei Campi.\n",
    "\n",
    "Usando la funzione \"train_test_split\" della Libreria Scikit Learn, spezziamo infine questi Set in Subset di \"Train\" vero e proprio e in Set di \"Validazione\", in proporzione di 80% - 20%"
   ]
  },
  {
   "cell_type": "code",
   "execution_count": 20,
   "metadata": {},
   "outputs": [],
   "source": [
    "# Estraiamo le Class Label dal Dataframe totale (Colonna \"Survived\")\n",
    "# in un nuovo Dataframe contenente, quindi, i soli risultati corretti\n",
    "y = train['Survived']\n",
    "\n",
    "# Eliminiamo la colonna con la Class Label dal Dataframe originale\n",
    "X = train.drop('Survived', axis=1)\n",
    " \n",
    "# Splittiamo i Set appena ottenuti in \"Training\" e \"Validation\"\n",
    "# in proporzione 80% - 20%\n",
    "X_tr, X_va, y_tr, y_va = train_test_split(X, y, test_size=0.2)"
   ]
  },
  {
   "cell_type": "code",
   "execution_count": 21,
   "metadata": {},
   "outputs": [
    {
     "name": "stdout",
     "output_type": "stream",
     "text": [
      "Dimensione Set di Train: (711, 14)\n",
      "Dimensione Set di Validazione: (178, 14)\n",
      "Dimensione Set Class Labels di Train: (711,)\n",
      "Dimensione Set Class Labels di Validazione: (178,)\n"
     ]
    }
   ],
   "source": [
    "# Visualizziamo le Dimensioni effettive dei nosti Set di dati:\n",
    "print(\"Dimensione Set di Train: \" + str(X_tr.shape))\n",
    "print(\"Dimensione Set di Validazione: \" + str(X_va.shape))\n",
    "print(\"Dimensione Set Class Labels di Train: \" + str(y_tr.shape))\n",
    "print(\"Dimensione Set Class Labels di Validazione: \" + str(y_va.shape))"
   ]
  },
  {
   "cell_type": "code",
   "execution_count": 22,
   "metadata": {},
   "outputs": [
    {
     "data": {
      "text/html": [
       "<div>\n",
       "<style scoped>\n",
       "    .dataframe tbody tr th:only-of-type {\n",
       "        vertical-align: middle;\n",
       "    }\n",
       "\n",
       "    .dataframe tbody tr th {\n",
       "        vertical-align: top;\n",
       "    }\n",
       "\n",
       "    .dataframe thead th {\n",
       "        text-align: right;\n",
       "    }\n",
       "</style>\n",
       "<table border=\"1\" class=\"dataframe\">\n",
       "  <thead>\n",
       "    <tr style=\"text-align: right;\">\n",
       "      <th></th>\n",
       "      <th>Age</th>\n",
       "      <th>SibSp</th>\n",
       "      <th>Parch</th>\n",
       "      <th>Fare</th>\n",
       "      <th>male</th>\n",
       "      <th>Q</th>\n",
       "      <th>S</th>\n",
       "      <th>Miss</th>\n",
       "      <th>Mr</th>\n",
       "      <th>Mrs</th>\n",
       "      <th>Nobile</th>\n",
       "      <th>Ufficiale</th>\n",
       "      <th>2</th>\n",
       "      <th>3</th>\n",
       "    </tr>\n",
       "  </thead>\n",
       "  <tbody>\n",
       "    <tr>\n",
       "      <th>121</th>\n",
       "      <td>-0.380182</td>\n",
       "      <td>0</td>\n",
       "      <td>0</td>\n",
       "      <td>-0.484133</td>\n",
       "      <td>1</td>\n",
       "      <td>0</td>\n",
       "      <td>1</td>\n",
       "      <td>0</td>\n",
       "      <td>1</td>\n",
       "      <td>0</td>\n",
       "      <td>0</td>\n",
       "      <td>0</td>\n",
       "      <td>0</td>\n",
       "      <td>1</td>\n",
       "    </tr>\n",
       "    <tr>\n",
       "      <th>687</th>\n",
       "      <td>-0.758902</td>\n",
       "      <td>0</td>\n",
       "      <td>0</td>\n",
       "      <td>-0.441435</td>\n",
       "      <td>1</td>\n",
       "      <td>0</td>\n",
       "      <td>1</td>\n",
       "      <td>0</td>\n",
       "      <td>1</td>\n",
       "      <td>0</td>\n",
       "      <td>0</td>\n",
       "      <td>0</td>\n",
       "      <td>0</td>\n",
       "      <td>1</td>\n",
       "    </tr>\n",
       "    <tr>\n",
       "      <th>790</th>\n",
       "      <td>-0.380182</td>\n",
       "      <td>0</td>\n",
       "      <td>0</td>\n",
       "      <td>-0.490173</td>\n",
       "      <td>1</td>\n",
       "      <td>1</td>\n",
       "      <td>0</td>\n",
       "      <td>0</td>\n",
       "      <td>1</td>\n",
       "      <td>0</td>\n",
       "      <td>0</td>\n",
       "      <td>0</td>\n",
       "      <td>0</td>\n",
       "      <td>1</td>\n",
       "    </tr>\n",
       "    <tr>\n",
       "      <th>837</th>\n",
       "      <td>-0.380182</td>\n",
       "      <td>0</td>\n",
       "      <td>0</td>\n",
       "      <td>-0.484133</td>\n",
       "      <td>1</td>\n",
       "      <td>0</td>\n",
       "      <td>1</td>\n",
       "      <td>0</td>\n",
       "      <td>1</td>\n",
       "      <td>0</td>\n",
       "      <td>0</td>\n",
       "      <td>0</td>\n",
       "      <td>0</td>\n",
       "      <td>1</td>\n",
       "    </tr>\n",
       "    <tr>\n",
       "      <th>659</th>\n",
       "      <td>2.195110</td>\n",
       "      <td>0</td>\n",
       "      <td>2</td>\n",
       "      <td>1.634368</td>\n",
       "      <td>1</td>\n",
       "      <td>0</td>\n",
       "      <td>0</td>\n",
       "      <td>0</td>\n",
       "      <td>1</td>\n",
       "      <td>0</td>\n",
       "      <td>0</td>\n",
       "      <td>0</td>\n",
       "      <td>0</td>\n",
       "      <td>0</td>\n",
       "    </tr>\n",
       "  </tbody>\n",
       "</table>\n",
       "</div>"
      ],
      "text/plain": [
       "          Age  SibSp  Parch      Fare  male  Q  S  Miss  Mr  Mrs  Nobile  \\\n",
       "121 -0.380182      0      0 -0.484133     1  0  1     0   1    0       0   \n",
       "687 -0.758902      0      0 -0.441435     1  0  1     0   1    0       0   \n",
       "790 -0.380182      0      0 -0.490173     1  1  0     0   1    0       0   \n",
       "837 -0.380182      0      0 -0.484133     1  0  1     0   1    0       0   \n",
       "659  2.195110      0      2  1.634368     1  0  0     0   1    0       0   \n",
       "\n",
       "     Ufficiale  2  3  \n",
       "121          0  0  1  \n",
       "687          0  0  1  \n",
       "790          0  0  1  \n",
       "837          0  0  1  \n",
       "659          0  0  0  "
      ]
     },
     "execution_count": 22,
     "metadata": {},
     "output_type": "execute_result"
    }
   ],
   "source": [
    "# Visualizziamo un estratto del Set di Training\n",
    "X_tr.head()"
   ]
  },
  {
   "cell_type": "code",
   "execution_count": 23,
   "metadata": {},
   "outputs": [
    {
     "data": {
      "text/plain": [
       "121    0\n",
       "687    0\n",
       "790    0\n",
       "837    0\n",
       "659    0\n",
       "      ..\n",
       "716    1\n",
       "768    0\n",
       "73     0\n",
       "236    0\n",
       "37     0\n",
       "Name: Survived, Length: 711, dtype: int64"
      ]
     },
     "execution_count": 23,
     "metadata": {},
     "output_type": "execute_result"
    }
   ],
   "source": [
    "# Visualizziamo un estratto del Set di Class Labels di Training\n",
    "y_tr"
   ]
  },
  {
   "cell_type": "markdown",
   "metadata": {},
   "source": [
    "### Assign the first layer dimensions to equal the number of features in your data set. In this case, the first layer expects eleven values. Feel free to play with the number of layers and neurons in every layer!"
   ]
  },
  {
   "cell_type": "markdown",
   "metadata": {},
   "source": [
    "La nostra Rete Neurale avrà le seguenti caratteristiche:\n",
    "\n",
    "- Dimensione dell'Input Layer uguale al numero delle Fatures presenti nel nostro Set di Training, in questo caso 14\n",
    "- Quattro Deep Layer di tipo \"Dense\" (ovvero dove ognuno dei Neuroni è connesso con tutti i Neuroni del Layer successivo)\n",
    "- Un Neurone di Output che si andrà a leggere e che ci fornirà a tutti gli effetti la Previsione se il Passeggero sottoposto in Input sopravviverà o meno\n",
    "- I Layer Deep saranno composti da Neuroni con Funzione di Attivazione di tipo \"ReLU\"\n",
    "- Il Layer di Output sarà composto da un Neurone con Funzione di Attivazione di tipo \"Sigmoid\"\n",
    "- I Layer Deep saranno composti rispettivamente da 20, 15, 10 e 10 Neuroni\n",
    "\n",
    "Non è scopo del presente esercizio approfindire il significato e i casi di utilizzo delle Funzioni di Attivazione dei singoli Neuroni. Per questo, si rimanda a un prossimo articolo!"
   ]
  },
  {
   "cell_type": "code",
   "execution_count": 24,
   "metadata": {},
   "outputs": [],
   "source": [
    "# Definiamo la Rete Neurale che andremo ad addestrare\n",
    "model = Sequential()\n",
    "model.add(Dense(20, input_dim=14, activation='relu'))\n",
    "model.add(Dense(15, activation='relu'))\n",
    "model.add(Dense(10, activation='relu'))\n",
    "model.add(Dense(10, activation='relu'))\n",
    "model.add(Dense(1, activation='sigmoid'))"
   ]
  },
  {
   "cell_type": "markdown",
   "metadata": {},
   "source": [
    "### Visualizziamo ora lo Schema effettivo della Rete Neurale che abbiamo costruito"
   ]
  },
  {
   "cell_type": "markdown",
   "metadata": {},
   "source": [
    "Per meglio comprendere cosa stiamo facendo, visualizziamo a tutti gli effetti lo Schema Logico della Rete Neurale. Questo il Summary schematico del Modello:"
   ]
  },
  {
   "cell_type": "code",
   "execution_count": 25,
   "metadata": {},
   "outputs": [
    {
     "name": "stdout",
     "output_type": "stream",
     "text": [
      "Model: \"sequential_1\"\n",
      "_________________________________________________________________\n",
      "Layer (type)                 Output Shape              Param #   \n",
      "=================================================================\n",
      "dense_1 (Dense)              (None, 20)                300       \n",
      "_________________________________________________________________\n",
      "dense_2 (Dense)              (None, 15)                315       \n",
      "_________________________________________________________________\n",
      "dense_3 (Dense)              (None, 10)                160       \n",
      "_________________________________________________________________\n",
      "dense_4 (Dense)              (None, 10)                110       \n",
      "_________________________________________________________________\n",
      "dense_5 (Dense)              (None, 1)                 11        \n",
      "=================================================================\n",
      "Total params: 896\n",
      "Trainable params: 896\n",
      "Non-trainable params: 0\n",
      "_________________________________________________________________\n"
     ]
    }
   ],
   "source": [
    "# Visualizziamo il Summary del Modello\n",
    "model.summary()"
   ]
  },
  {
   "cell_type": "markdown",
   "metadata": {},
   "source": [
    "### Compiliamo il nostro Modello di Rete Neurale, usando una Loss Function di tipo \"Binary Crossentropy\""
   ]
  },
  {
   "cell_type": "markdown",
   "metadata": {},
   "source": [
    "Prima di avviare l'apprendimento, dobbiamo compilare il nostro Modello. In questo caso, visto che ciò che dobbiamo prevedere in Output è fondamentalmente una Classe binaria \"1\" oppure \"0\", usiamo una Loss Funcrion di tipo \"Binary Crossentropy\", perfetta per l'uso in questa casistica.\n",
    "\n",
    "Usermemo un Ottimizzatore di tipo \"Adam\".\n",
    "\n",
    "Non è scopo di questo esercizio approfondire le tipologie di Loss Fuction e le loro possibili applicazioni, e neppure le tipologie di Ottimizzatore disponibili o il loro funzionamento.\n",
    "\n",
    "Per questi argomenti si rimanda a un prossimo articolo!"
   ]
  },
  {
   "cell_type": "code",
   "execution_count": 26,
   "metadata": {},
   "outputs": [],
   "source": [
    "# Compiliamo il Modello\n",
    "model.compile(loss='binary_crossentropy', optimizer='adam', metrics=['accuracy'])"
   ]
  },
  {
   "cell_type": "markdown",
   "metadata": {},
   "source": [
    "### Finalmente, avviamo l'Apprendimento!"
   ]
  },
  {
   "cell_type": "markdown",
   "metadata": {},
   "source": [
    "Siamo giunti al momento cruciale, ovvero il Training del nostro Modello.\n",
    "\n",
    "Quello che stiamo per dire alla nostra Rete Neurale di eseguire è di:\n",
    "\n",
    "- Leggere il Set di Test e apprendere su di esso\n",
    "- Leggerlo in chunk composti da 10 Record\n",
    "- Per verificare le Performance delle Previsioni su Dati non visti, usa il Set di Validazione\n",
    "- Ripetere il tutto per 14 volte (Epochs)\n",
    "- Salva la progressione di Apprendimento in un oggetto \"history\" in modo che poi potremo plottarne un Grafico\n",
    "\n",
    "Partiamo! Eseguiamo quindi la cella successiva e attendiamo il completamento delle 14 Epochs:"
   ]
  },
  {
   "cell_type": "code",
   "execution_count": 27,
   "metadata": {},
   "outputs": [
    {
     "name": "stdout",
     "output_type": "stream",
     "text": [
      "Train on 711 samples, validate on 178 samples\n",
      "Epoch 1/14\n",
      "711/711 [==============================] - 0s 420us/step - loss: 0.6709 - accuracy: 0.5963 - val_loss: 0.6352 - val_accuracy: 0.5899\n",
      "Epoch 2/14\n",
      "711/711 [==============================] - 0s 126us/step - loss: 0.5912 - accuracy: 0.6245 - val_loss: 0.5651 - val_accuracy: 0.5955\n",
      "Epoch 3/14\n",
      "711/711 [==============================] - 0s 119us/step - loss: 0.5435 - accuracy: 0.6428 - val_loss: 0.5380 - val_accuracy: 0.6685\n",
      "Epoch 4/14\n",
      "711/711 [==============================] - 0s 114us/step - loss: 0.5127 - accuracy: 0.7876 - val_loss: 0.4959 - val_accuracy: 0.8146\n",
      "Epoch 5/14\n",
      "711/711 [==============================] - 0s 120us/step - loss: 0.4691 - accuracy: 0.8031 - val_loss: 0.4377 - val_accuracy: 0.8315\n",
      "Epoch 6/14\n",
      "711/711 [==============================] - 0s 125us/step - loss: 0.4414 - accuracy: 0.8200 - val_loss: 0.4104 - val_accuracy: 0.8315\n",
      "Epoch 7/14\n",
      "711/711 [==============================] - 0s 115us/step - loss: 0.4233 - accuracy: 0.8214 - val_loss: 0.4002 - val_accuracy: 0.8315\n",
      "Epoch 8/14\n",
      "711/711 [==============================] - 0s 113us/step - loss: 0.4161 - accuracy: 0.8312 - val_loss: 0.3953 - val_accuracy: 0.8371\n",
      "Epoch 9/14\n",
      "711/711 [==============================] - 0s 113us/step - loss: 0.4060 - accuracy: 0.8368 - val_loss: 0.3907 - val_accuracy: 0.8371\n",
      "Epoch 10/14\n",
      "711/711 [==============================] - 0s 114us/step - loss: 0.4040 - accuracy: 0.8411 - val_loss: 0.3822 - val_accuracy: 0.8315\n",
      "Epoch 11/14\n",
      "711/711 [==============================] - 0s 113us/step - loss: 0.3981 - accuracy: 0.8383 - val_loss: 0.3797 - val_accuracy: 0.8483\n",
      "Epoch 12/14\n",
      "711/711 [==============================] - 0s 113us/step - loss: 0.3950 - accuracy: 0.8411 - val_loss: 0.3760 - val_accuracy: 0.8427\n",
      "Epoch 13/14\n",
      "711/711 [==============================] - 0s 112us/step - loss: 0.3932 - accuracy: 0.8368 - val_loss: 0.3785 - val_accuracy: 0.8483\n",
      "Epoch 14/14\n",
      "711/711 [==============================] - 0s 114us/step - loss: 0.3892 - accuracy: 0.8425 - val_loss: 0.3799 - val_accuracy: 0.8427\n"
     ]
    }
   ],
   "source": [
    "# Eseguiamo il fitting del nostro Modello sul Set di Training e di Validazione\n",
    "history = model.fit(X_tr, y_tr, validation_data=(X_va, y_va), epochs=14, batch_size=10)"
   ]
  },
  {
   "cell_type": "markdown",
   "metadata": {},
   "source": [
    "### Plottiamo la Accuracy e la Loss Function con il progredire delle Epochs di Apprendimento"
   ]
  },
  {
   "cell_type": "markdown",
   "metadata": {},
   "source": [
    "Per renderci conto di quanto \"bene\" oppure \"male\" stiamo facendo, iniziamo col plottare un Grafico relativo alla Accuracy (Precisione) del nostro Modello, nel corso delle 14 Epochs di Training.\n",
    "\n",
    "In particolare plottiamo l'Accuracy sia con riferimento ai dati di Training stessi, che con riferimento ai dati di Validazione (che come è facile intuire, sono il vero \"banco di prova\" del Modello, visto che sono dati che non vengono usati per il Training ma sono dati \"mai vosti prima\" dalla Rete Neurale.\n",
    "\n",
    "Come si può immaginare, un'alta Accuracy è \"una buona cosa\":"
   ]
  },
  {
   "cell_type": "code",
   "execution_count": 28,
   "metadata": {},
   "outputs": [
    {
     "data": {
      "image/png": "[encoded data removed]",
      "text/plain": [
       "<Figure size 432x288 with 1 Axes>"
      ]
     },
     "metadata": {
      "needs_background": "light"
     },
     "output_type": "display_data"
    }
   ],
   "source": [
    "# Plottiamo l'Accuracy sul Set di Train e sul Set di Validazione\n",
    "plt.plot(history.history['accuracy'])\n",
    "plt.plot(history.history['val_accuracy'])\n",
    "plt.title('model accuracy')\n",
    "plt.ylabel('accuracy')\n",
    "plt.xlabel('epoch')\n",
    "plt.legend(['train', 'val'], loc='upper left')\n",
    "plt.show()"
   ]
  },
  {
   "cell_type": "markdown",
   "metadata": {},
   "source": [
    "Plottiamo ora l'andamento della Loss Function, con riferimento sia al Set di Train che a quello di Validazione, della Loss Function, ovvero della quantificazione di quanto \"il Modello si è sbagliato\" nelle sue Previsioni, siano esse state effettuate sul Set di Train o su quello di Validazione.\n",
    "\n",
    "Come si può intuire, un basso valore della Loss Function implica che \"stiamo facendo bene\":"
   ]
  },
  {
   "cell_type": "code",
   "execution_count": 29,
   "metadata": {},
   "outputs": [
    {
     "data": {
      "image/png": "[encoded data removed]",
      "text/plain": [
       "<Figure size 432x288 with 1 Axes>"
      ]
     },
     "metadata": {
      "needs_background": "light"
     },
     "output_type": "display_data"
    }
   ],
   "source": [
    "# Plottiamo la Loss Function sul Set di Train e sul Set di Validazione\n",
    "plt.plot(history.history['loss'])\n",
    "plt.plot(history.history['val_loss'])\n",
    "plt.title('model loss')\n",
    "plt.ylabel('loss')\n",
    "plt.xlabel('epoch')\n",
    "plt.legend(['train', 'val'], loc='upper left')\n",
    "plt.show()"
   ]
  },
  {
   "cell_type": "markdown",
   "metadata": {},
   "source": [
    "### L'Accuracy sembra veramente buona sia sul Set di Train che su quello di Validazione! E anche la Loss Function appare convergere molto bene!"
   ]
  },
  {
   "cell_type": "markdown",
   "metadata": {},
   "source": [
    "I grafici di cui sopra appaiono molto confortanti. Vediamo ora di dare un valore numerico preciso alle Performance che abbiamo raggiunto:"
   ]
  },
  {
   "cell_type": "code",
   "execution_count": 30,
   "metadata": {},
   "outputs": [
    {
     "name": "stdout",
     "output_type": "stream",
     "text": [
      "711/711 [==============================] - 0s 15us/step\n",
      "Estimated model Loss on its own Training Data: 0.38\n",
      "Estimated model Accuracy on its own Training Data: 0.85\n"
     ]
    }
   ],
   "source": [
    "# Eseguiamo un ciclo di Predizioni (senza ulteriore apprendimento!) sui\n",
    "# dati di Training per stimare la Precisione raggiunta in termini numerici\n",
    "tr_tot_loss, tr_tot_accuracy = model.evaluate(X_tr, y_tr)\n",
    "print('Estimated model Loss on its own Training Data: %.2f' % (tr_tot_loss))\n",
    "print('Estimated model Accuracy on its own Training Data: %.2f' % (tr_tot_accuracy))"
   ]
  },
  {
   "cell_type": "code",
   "execution_count": 31,
   "metadata": {},
   "outputs": [
    {
     "name": "stdout",
     "output_type": "stream",
     "text": [
      "178/178 [==============================] - 0s 25us/step\n",
      "Estimated model Loss on its own Validation Data: 0.38\n",
      "Estimated model Accuracy on its own Validation Data: 0.84\n"
     ]
    }
   ],
   "source": [
    "# Eseguiamo un ciclo di Predizioni (senza ulteriore apprendimento!) sui\n",
    "# dati di Validazione per stimare la Precisione raggiunta in termini numerici\n",
    "va_tot_loss, va_tot_accuracy = model.evaluate(X_va, y_va)\n",
    "print('Estimated model Loss on its own Validation Data: %.2f' % (va_tot_loss))\n",
    "print('Estimated model Accuracy on its own Validation Data: %.2f' % (va_tot_accuracy))"
   ]
  },
  {
   "cell_type": "markdown",
   "metadata": {},
   "source": [
    "### Le Performance appaiono veramente buone sia sul Set di Training che su quello di Validazione. Siamo pronti ora per la fase finale: DARE IN PASTO ALLA RETE NEURALE I DATI DELLA COMPETITION, FORNITI DA KAGGLE, E DEI QUALI NON CONOSCIAMO ASSOLUTAMENTE IL VALORE DEL FLAG \"SURVIVED\"! Verremo quindi valutati sui nostri risultati effettivi dopo aver fatto l'Upload delle nostre Previsioni, in formato CSV, sul sito di Kaggle"
   ]
  },
  {
   "cell_type": "markdown",
   "metadata": {},
   "source": [
    " "
   ]
  },
  {
   "cell_type": "markdown",
   "metadata": {},
   "source": [
    "<hr>"
   ]
  },
  {
   "cell_type": "markdown",
   "metadata": {},
   "source": [
    " "
   ]
  },
  {
   "cell_type": "markdown",
   "metadata": {},
   "source": [
    "## Creiamo la Submission per Kaggle"
   ]
  },
  {
   "cell_type": "markdown",
   "metadata": {},
   "source": [
    "Applicheremo ora il nostro Modello ai dati di Test inizialmente scaricati dal sito della Competition, ovvero utilizzando il file \"test.csv\", che è in tutto e per tutto uguale al file \"train.csv\" che abbiamo usato per l'Apprendimento, con l'unica differenza che non contiene il Campo dei risultati, ovvero il Campo \"Survived\""
   ]
  },
  {
   "cell_type": "markdown",
   "metadata": {},
   "source": [
    "### Leggiamo i Dati di Test in un Dataframe"
   ]
  },
  {
   "cell_type": "markdown",
   "metadata": {},
   "source": [
    "Sulla falsariga di quanto già fatto in precedenza per i dati di \"Train\", leggiamo ora i dati di \"Test\": "
   ]
  },
  {
   "cell_type": "code",
   "execution_count": 32,
   "metadata": {},
   "outputs": [],
   "source": [
    "# Il file di riferimento \"test.csv\" scaricato dal sito della\n",
    "# Kaggle Competition dovrà essere salvato nella stessa directory di questo\n",
    "# Jupyter Notebook, se stai lavorando in locale. Se invece stai lavorando\n",
    "# sull'Istanza Google Colab come suggerito nell'articolo, non devi fare nulla\n",
    "# in quanto il file stesso è già stato scaricato ed è già presente nella\n",
    "# posizione corretta\n",
    "test = pd.read_csv('test.csv')\n",
    "\n",
    "# C'è un \"NULL\" nella Colonna \"Fare\" al Record 152, sistemiamola\n",
    "test.loc[152,'Fare'] = 7\n",
    "\n",
    "# Salviamo anche una copia fisica di Riferimento del Dataframe, che ci verrà\n",
    "# utile più tardi quando dovremo recuperare la Colonna \"PassengerId\"\n",
    "test_riferimento = test.copy(deep=True)"
   ]
  },
  {
   "cell_type": "markdown",
   "metadata": {},
   "source": [
    "### Preprocessiamo i Dati, esattamente come fatto nella fase di Data Preparation, per essere pronti a darli in pasto al nostro Modello per inferire le Previsioni da sottoporre a Kaggle"
   ]
  },
  {
   "cell_type": "markdown",
   "metadata": {},
   "source": [
    "Ora che abbiamo i Dati oggetto della Competition, dobbiamo preprocessarli per poter effettuare le Previsioni. Fortunatamente, ora sappiamo già tutti gli step necessari da seguire e li possiamo eseguire in una sola volta, tutti, in un'unica casella di Codice:"
   ]
  },
  {
   "cell_type": "code",
   "execution_count": 33,
   "metadata": {},
   "outputs": [],
   "source": [
    "# Modifica in-place il nostro Dataframe di riferimento, applicando\n",
    "# la funzione che integra l'Età del Passeggero laddove mancante\n",
    "test['Age'] = test[['Age','Pclass']].apply(assegna_eta,axis=1)\n",
    "\n",
    "# Drop delle Colonne non utilizzabili o non interessanti\n",
    "test.drop('Cabin',axis=1,inplace=True)\n",
    "test.drop('Ticket',axis=1,inplace=True)\n",
    "test.drop('PassengerId',axis=1,inplace=True)\n",
    "\n",
    "# Decodifichiamo la Colonna \"Name\" ed estraiamo il\n",
    "# Titolo sociale del Passeggero in esame\n",
    "test['Title'] = test['Name'].map(lambda x: ottieni_titolo(x))\n",
    "\n",
    "# Infine, rimpiazziamo il Titolo appena estratto con una sua\n",
    "# codifica Categorica ancora più strutturata\n",
    "test['Title'] = test.apply(codifica_titolo, axis=1)\n",
    "\n",
    "# Ora la colonna \"Name\", non strutturata, non ci serve\n",
    "# più ai fini dell'Apprendimento del nostro Modello, e\n",
    "# quindi la eliminamo dal Dataframe\n",
    "test.drop('Name', axis=1, inplace=True)\n",
    "\n",
    "# Estraiamo le colonne \"One-Hot Encoded\" a partire dalle\n",
    "# Colonne Categoriche\n",
    "sex = pd.get_dummies(test['Sex'],drop_first=True)\n",
    "embark = pd.get_dummies(test['Embarked'],drop_first=True)\n",
    "title = pd.get_dummies(test['Title'],drop_first=True)\n",
    "travelclass = pd.get_dummies(test['Pclass'],drop_first=True)\n",
    "\n",
    "# Eliminiamo le Colonne originali e uniamo al loro posto le\n",
    "# Colonne \"One-Hot Encoded\" appena create\n",
    "test.drop(['Sex', 'Embarked', 'Title', 'Pclass'],axis=1,inplace=True)\n",
    "test = pd.concat([test, sex, embark, title, travelclass],axis=1)\n",
    "\n",
    "# Standard Scaling della Colonna \"Age\"\n",
    "eta = test['Age'].values.reshape(test.shape[0],1)\n",
    "normalizzatore = StandardScaler()\n",
    "normalizzatore.fit(eta)\n",
    "eta_normalizzata = normalizzatore.transform(eta)\n",
    "test['Age'] = eta_normalizzata\n",
    "\n",
    "# Standard Scaling della Colonna \"Fare\"\n",
    "tariffa = test['Fare'].values.reshape(test.shape[0],1)\n",
    "normalizzatore = StandardScaler()\n",
    "normalizzatore.fit(tariffa)\n",
    "tariffa_normalizzata = normalizzatore.transform(tariffa)\n",
    "test['Fare'] = tariffa_normalizzata"
   ]
  },
  {
   "cell_type": "code",
   "execution_count": 34,
   "metadata": {},
   "outputs": [
    {
     "data": {
      "text/html": [
       "<div>\n",
       "<style scoped>\n",
       "    .dataframe tbody tr th:only-of-type {\n",
       "        vertical-align: middle;\n",
       "    }\n",
       "\n",
       "    .dataframe tbody tr th {\n",
       "        vertical-align: top;\n",
       "    }\n",
       "\n",
       "    .dataframe thead th {\n",
       "        text-align: right;\n",
       "    }\n",
       "</style>\n",
       "<table border=\"1\" class=\"dataframe\">\n",
       "  <thead>\n",
       "    <tr style=\"text-align: right;\">\n",
       "      <th></th>\n",
       "      <th>Age</th>\n",
       "      <th>SibSp</th>\n",
       "      <th>Parch</th>\n",
       "      <th>Fare</th>\n",
       "      <th>male</th>\n",
       "      <th>Q</th>\n",
       "      <th>S</th>\n",
       "      <th>Miss</th>\n",
       "      <th>Mr</th>\n",
       "      <th>Mrs</th>\n",
       "      <th>Nobile</th>\n",
       "      <th>Ufficiale</th>\n",
       "      <th>2</th>\n",
       "      <th>3</th>\n",
       "    </tr>\n",
       "  </thead>\n",
       "  <tbody>\n",
       "    <tr>\n",
       "      <th>0</th>\n",
       "      <td>0.401768</td>\n",
       "      <td>0</td>\n",
       "      <td>0</td>\n",
       "      <td>-0.497023</td>\n",
       "      <td>1</td>\n",
       "      <td>1</td>\n",
       "      <td>0</td>\n",
       "      <td>0</td>\n",
       "      <td>1</td>\n",
       "      <td>0</td>\n",
       "      <td>0</td>\n",
       "      <td>0</td>\n",
       "      <td>0</td>\n",
       "      <td>1</td>\n",
       "    </tr>\n",
       "    <tr>\n",
       "      <th>1</th>\n",
       "      <td>1.371615</td>\n",
       "      <td>1</td>\n",
       "      <td>0</td>\n",
       "      <td>-0.511885</td>\n",
       "      <td>0</td>\n",
       "      <td>0</td>\n",
       "      <td>1</td>\n",
       "      <td>0</td>\n",
       "      <td>0</td>\n",
       "      <td>1</td>\n",
       "      <td>0</td>\n",
       "      <td>0</td>\n",
       "      <td>0</td>\n",
       "      <td>1</td>\n",
       "    </tr>\n",
       "    <tr>\n",
       "      <th>2</th>\n",
       "      <td>2.535433</td>\n",
       "      <td>0</td>\n",
       "      <td>0</td>\n",
       "      <td>-0.463715</td>\n",
       "      <td>1</td>\n",
       "      <td>1</td>\n",
       "      <td>0</td>\n",
       "      <td>0</td>\n",
       "      <td>1</td>\n",
       "      <td>0</td>\n",
       "      <td>0</td>\n",
       "      <td>0</td>\n",
       "      <td>1</td>\n",
       "      <td>0</td>\n",
       "    </tr>\n",
       "    <tr>\n",
       "      <th>3</th>\n",
       "      <td>-0.180141</td>\n",
       "      <td>0</td>\n",
       "      <td>0</td>\n",
       "      <td>-0.482087</td>\n",
       "      <td>1</td>\n",
       "      <td>0</td>\n",
       "      <td>1</td>\n",
       "      <td>0</td>\n",
       "      <td>1</td>\n",
       "      <td>0</td>\n",
       "      <td>0</td>\n",
       "      <td>0</td>\n",
       "      <td>0</td>\n",
       "      <td>1</td>\n",
       "    </tr>\n",
       "    <tr>\n",
       "      <th>4</th>\n",
       "      <td>-0.568080</td>\n",
       "      <td>1</td>\n",
       "      <td>1</td>\n",
       "      <td>-0.417112</td>\n",
       "      <td>0</td>\n",
       "      <td>0</td>\n",
       "      <td>1</td>\n",
       "      <td>0</td>\n",
       "      <td>0</td>\n",
       "      <td>1</td>\n",
       "      <td>0</td>\n",
       "      <td>0</td>\n",
       "      <td>0</td>\n",
       "      <td>1</td>\n",
       "    </tr>\n",
       "  </tbody>\n",
       "</table>\n",
       "</div>"
      ],
      "text/plain": [
       "        Age  SibSp  Parch      Fare  male  Q  S  Miss  Mr  Mrs  Nobile  \\\n",
       "0  0.401768      0      0 -0.497023     1  1  0     0   1    0       0   \n",
       "1  1.371615      1      0 -0.511885     0  0  1     0   0    1       0   \n",
       "2  2.535433      0      0 -0.463715     1  1  0     0   1    0       0   \n",
       "3 -0.180141      0      0 -0.482087     1  0  1     0   1    0       0   \n",
       "4 -0.568080      1      1 -0.417112     0  0  1     0   0    1       0   \n",
       "\n",
       "   Ufficiale  2  3  \n",
       "0          0  0  1  \n",
       "1          0  0  1  \n",
       "2          0  1  0  \n",
       "3          0  0  1  \n",
       "4          0  0  1  "
      ]
     },
     "execution_count": 34,
     "metadata": {},
     "output_type": "execute_result"
    }
   ],
   "source": [
    "# Ispezioniamo visivamente il Dataframe risultante\n",
    "test.head()"
   ]
  },
  {
   "cell_type": "markdown",
   "metadata": {},
   "source": [
    "### Applichiamo il nosto Modello (già Addestrato!) di Rete Neurale, ed effettuiamo le nostre Previsioni sui Passeggeri oggetto del Contest"
   ]
  },
  {
   "cell_type": "code",
   "execution_count": 35,
   "metadata": {},
   "outputs": [],
   "source": [
    "# Creiamo il Set di Test a partire dal Dataframe preprocessato poc'anzi\n",
    "X_te = test"
   ]
  },
  {
   "cell_type": "code",
   "execution_count": 36,
   "metadata": {},
   "outputs": [
    {
     "data": {
      "text/plain": [
       "(418, 14)"
      ]
     },
     "execution_count": 36,
     "metadata": {},
     "output_type": "execute_result"
    }
   ],
   "source": [
    "# Visualizziamo le dimentsioni del Set di Test\n",
    "X_te.shape"
   ]
  },
  {
   "cell_type": "markdown",
   "metadata": {},
   "source": [
    "### Facciamo ora inferenza della Probabilità di Sopravvivenza di ognuno dei Passeggeri elencati nel Set di Test, utilizzando la Forward Propagation attraverso il nostro Modello di Rete Neurale"
   ]
  },
  {
   "cell_type": "code",
   "execution_count": 37,
   "metadata": {},
   "outputs": [],
   "source": [
    "# Facciamo le Previsioni!\n",
    "probabilita_di_sopravvivenza = model.predict(X_te)"
   ]
  },
  {
   "cell_type": "code",
   "execution_count": 38,
   "metadata": {},
   "outputs": [
    {
     "data": {
      "text/plain": [
       "array([[0.55856055],\n",
       "       [0.06672451],\n",
       "       [0.1132893 ],\n",
       "       [0.63600314],\n",
       "       [0.1225037 ],\n",
       "       [0.678813  ],\n",
       "       [0.08789268],\n",
       "       [0.847818  ],\n",
       "       [0.12382782]], dtype=float32)"
      ]
     },
     "execution_count": 38,
     "metadata": {},
     "output_type": "execute_result"
    }
   ],
   "source": [
    "# Visualizziamo un estratto dell'Array risultante, contenente le Probabilità di\n",
    "# Sopravvivenza di ciascuno dei Passeggeri nel Set di Test\n",
    "probabilita_di_sopravvivenza[1:10]"
   ]
  },
  {
   "cell_type": "markdown",
   "metadata": {},
   "source": [
    "### Scegliamo ora una Soglia di 0.5 per creare la versione finale dell'Arrayt di Sopravvivenza, che sarà composto solo da cifre \"0\" oppure \"1\""
   ]
  },
  {
   "cell_type": "code",
   "execution_count": 39,
   "metadata": {},
   "outputs": [],
   "source": [
    "# Calcoliamo l'Array finale da sottoporre a Kaggle, formato solo\n",
    "# da cifre \"0\" oppure \"1\"\n",
    "flag_di_sopravvivenza = np.zeros((X_te.shape[0]))\n",
    "for i in range(0, probabilita_di_sopravvivenza.shape[0]):\n",
    "        if probabilita_di_sopravvivenza[i] > 0.5:\n",
    "            flag_di_sopravvivenza[i] = 1\n",
    "        else:\n",
    "            flag_di_sopravvivenza[i] = 0"
   ]
  },
  {
   "cell_type": "code",
   "execution_count": 40,
   "metadata": {},
   "outputs": [
    {
     "data": {
      "text/plain": [
       "array([0., 1., 0., 0., 1., 0., 1., 0., 1., 0., 0., 0., 1., 0., 1., 1., 0.,\n",
       "       0., 0., 1., 0., 1., 1., 0., 1., 0., 1., 0., 0., 0., 0., 0., 0., 1.,\n",
       "       0., 0., 0., 0., 0., 0., 0., 0., 0., 1., 1., 0., 0., 0., 1., 0., 0.,\n",
       "       0., 1., 1., 0., 0., 0., 0., 0., 1., 0., 0., 0., 1., 1., 1., 1., 0.,\n",
       "       0., 1., 1., 0., 0., 0., 1., 0., 0., 1., 0., 1., 1., 0., 0., 0., 0.,\n",
       "       0., 1., 0., 1., 1., 1., 0., 1., 0., 0., 0., 1., 0., 0., 0., 1., 0.,\n",
       "       0., 0., 1., 0., 0., 0., 0., 0., 0., 1., 1., 1., 1., 0., 0., 1., 0.,\n",
       "       1., 1., 0., 1., 0., 0., 0., 0., 0., 0., 0., 0., 0., 0., 0., 0., 0.,\n",
       "       0., 0., 0., 0., 0., 1., 0., 0., 0., 0., 0., 0., 0., 0., 1., 0., 0.,\n",
       "       0., 0., 0., 1., 0., 0., 1., 1., 1., 1., 0., 0., 1., 0., 0., 1., 0.,\n",
       "       0., 0., 0., 0., 0., 1., 1., 0., 1., 1., 0., 0., 1., 0., 1., 0., 1.,\n",
       "       0., 0., 0., 0., 0., 1., 0., 1., 0., 1., 0., 0., 1., 1., 1., 1., 1.,\n",
       "       0., 0., 1., 0., 1., 0., 0., 0., 0., 1., 0., 0., 1., 0., 1., 0., 1.,\n",
       "       0., 1., 0., 1., 1., 0., 1., 0., 0., 0., 1., 0., 0., 0., 0., 0., 0.,\n",
       "       1., 1., 1., 1., 0., 0., 0., 0., 1., 0., 1., 1., 1., 0., 1., 0., 0.,\n",
       "       0., 0., 0., 1., 0., 0., 0., 1., 1., 0., 0., 0., 0., 0., 0., 0., 0.,\n",
       "       1., 1., 0., 1., 0., 0., 0., 0., 0., 1., 1., 1., 1., 0., 0., 0., 0.,\n",
       "       0., 0., 1., 0., 0., 0., 0., 1., 0., 0., 0., 0., 0., 0., 0., 1., 1.,\n",
       "       0., 1., 0., 1., 0., 0., 0., 1., 1., 1., 0., 0., 0., 0., 0., 0., 0.,\n",
       "       0., 1., 0., 1., 0., 0., 0., 1., 0., 0., 1., 0., 0., 0., 0., 0., 1.,\n",
       "       0., 0., 0., 1., 0., 0., 0., 1., 0., 1., 1., 0., 0., 0., 1., 0., 1.,\n",
       "       0., 0., 0., 0., 1., 1., 0., 1., 0., 0., 0., 1., 0., 0., 1., 0., 0.,\n",
       "       1., 1., 0., 0., 0., 0., 0., 0., 1., 1., 0., 1., 0., 0., 0., 0., 0.,\n",
       "       1., 1., 0., 0., 1., 0., 1., 0., 0., 1., 0., 1., 0., 0., 0., 0., 0.,\n",
       "       1., 1., 1., 1., 0., 0., 1., 0., 0., 0.])"
      ]
     },
     "execution_count": 40,
     "metadata": {},
     "output_type": "execute_result"
    }
   ],
   "source": [
    "# Visualizziamo l'Array finale dei Flag di Sopravvivenza calcolati\n",
    "flag_di_sopravvivenza"
   ]
  },
  {
   "cell_type": "markdown",
   "metadata": {},
   "source": [
    "### Salviamo le Predizioni in un file CSV"
   ]
  },
  {
   "cell_type": "markdown",
   "metadata": {},
   "source": [
    "Finalmente possiamo salvare i risultati finali in un file CSV. Questo file andrà uploadato al sito della Competition, seguendo le istruzioni contenute nell'articolo correlato, per vedere la collocazione in classifica!\n",
    "\n",
    "Per fare ciò, dovremo andare a recuperare gli ID dei Passeggeri dal Set di Test, affiancarlo ai nostri Flag di Sopravvivenza calcolati, e salvare infine il Dataframe così ottenuto in formato CSV"
   ]
  },
  {
   "cell_type": "code",
   "execution_count": 41,
   "metadata": {},
   "outputs": [],
   "source": [
    "# Estraiamo gli ID dei Passeggeri dal Set di Test originale\n",
    "# utilizzando la copia del Dataframe \"test_riferimento\" che\n",
    "# avevamo a suo tempo effettuato per conservare la\n",
    "# Colonna \"PassengerId\"\n",
    "id_passeggeri = pd.DataFrame(data=test_riferimento['PassengerId'], columns=['PassengerId'], dtype=int)\n",
    "\n",
    "# Effettuiamo la trasposizione del Dataframe delle Predizioni in\n",
    "# un vettore di Colonne\n",
    "predizioni_finali = pd.DataFrame(data=flag_di_sopravvivenza, columns=['Survived'], dtype=int)\n",
    "\n",
    "# Concateniamo i due vettori di Colonne per ottenere il Dataframe finale\n",
    "predizioni_upload_kaggle_finali = pd.concat([id_passeggeri, predizioni_finali], axis=1)"
   ]
  },
  {
   "cell_type": "code",
   "execution_count": 42,
   "metadata": {},
   "outputs": [
    {
     "data": {
      "text/html": [
       "<div>\n",
       "<style scoped>\n",
       "    .dataframe tbody tr th:only-of-type {\n",
       "        vertical-align: middle;\n",
       "    }\n",
       "\n",
       "    .dataframe tbody tr th {\n",
       "        vertical-align: top;\n",
       "    }\n",
       "\n",
       "    .dataframe thead th {\n",
       "        text-align: right;\n",
       "    }\n",
       "</style>\n",
       "<table border=\"1\" class=\"dataframe\">\n",
       "  <thead>\n",
       "    <tr style=\"text-align: right;\">\n",
       "      <th></th>\n",
       "      <th>PassengerId</th>\n",
       "      <th>Survived</th>\n",
       "    </tr>\n",
       "  </thead>\n",
       "  <tbody>\n",
       "    <tr>\n",
       "      <th>0</th>\n",
       "      <td>892</td>\n",
       "      <td>0</td>\n",
       "    </tr>\n",
       "    <tr>\n",
       "      <th>1</th>\n",
       "      <td>893</td>\n",
       "      <td>1</td>\n",
       "    </tr>\n",
       "    <tr>\n",
       "      <th>2</th>\n",
       "      <td>894</td>\n",
       "      <td>0</td>\n",
       "    </tr>\n",
       "    <tr>\n",
       "      <th>3</th>\n",
       "      <td>895</td>\n",
       "      <td>0</td>\n",
       "    </tr>\n",
       "    <tr>\n",
       "      <th>4</th>\n",
       "      <td>896</td>\n",
       "      <td>1</td>\n",
       "    </tr>\n",
       "  </tbody>\n",
       "</table>\n",
       "</div>"
      ],
      "text/plain": [
       "   PassengerId  Survived\n",
       "0          892         0\n",
       "1          893         1\n",
       "2          894         0\n",
       "3          895         0\n",
       "4          896         1"
      ]
     },
     "execution_count": 42,
     "metadata": {},
     "output_type": "execute_result"
    }
   ],
   "source": [
    "# Ispezioniamo visivamente il Dataframe risultante\n",
    "predizioni_upload_kaggle_finali.head()"
   ]
  },
  {
   "cell_type": "markdown",
   "metadata": {},
   "source": [
    "### Creazione del file finale e completo su Filesystem"
   ]
  },
  {
   "cell_type": "code",
   "execution_count": 43,
   "metadata": {},
   "outputs": [],
   "source": [
    "# Salviamo i risultati! Questo è il file di cui fare Upload sul sito Kaggle!\n",
    "predizioni_upload_kaggle_finali.to_csv('titanic_previsioni_sopravvivenza.csv', index=False)"
   ]
  },
  {
   "cell_type": "markdown",
   "metadata": {},
   "source": [
    " "
   ]
  },
  {
   "cell_type": "markdown",
   "metadata": {},
   "source": [
    "<hr>"
   ]
  },
  {
   "cell_type": "markdown",
   "metadata": {},
   "source": [
    " "
   ]
  },
  {
   "cell_type": "markdown",
   "metadata": {},
   "source": [
    "## Conclusioni"
   ]
  },
  {
   "cell_type": "markdown",
   "metadata": {},
   "source": [
    "E' giunto il momento tanto atteso e il risultato tanto sudato! Salvare a questo punto in locale il file \"itanic_previsioni_sopravvivenza.csv\" e farne l'Upload seguendo le istruzioni nell'articolo allegato.\n",
    "\n",
    "Controlla come sei messo in Classifica Generale. Probabilmente, ti sarai collocato verso la metà alta dei Partecipanti totali. Questa Classifica viene aggiornata a rotazione ogni giorno, quindi contando che di solito si contano alcune decine di migliaia di Partecipanti, tutto sommato il risultato è tutt'altro che deludente!\n",
    "\n",
    "Ovviamente, sentiti libero di giocare con il Codice, di provare Reti Neurali con Architetture più o meno capaci di quella inclusa nell'esercizio, di provare diversi numeri di Epoch di Training e di dimensione del Minibatch di Apprendimento (nel nostro caso, 10 Record). Buon divertimento!"
   ]
  }
 ],
 "metadata": {
  "kernelspec": {
   "display_name": "Python 3",
   "language": "python",
   "name": "python3"
  },
  "language_info": {
   "codemirror_mode": {
    "name": "ipython",
    "version": 3
   },
   "file_extension": ".py",
   "mimetype": "text/x-python",
   "name": "python",
   "nbconvert_exporter": "python",
   "pygments_lexer": "ipython3",
   "version": "3.7.4"
  }
 },
 "nbformat": 4,
 "nbformat_minor": 2
}
